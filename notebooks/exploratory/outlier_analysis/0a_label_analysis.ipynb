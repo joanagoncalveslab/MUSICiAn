{
 "cells": [
  {
   "cell_type": "code",
   "execution_count": 1,
   "metadata": {},
   "outputs": [
    {
     "name": "stdout",
     "output_type": "stream",
     "text": [
      "51\n",
      "41\n",
      "13\n",
      "55\n"
     ]
    }
   ],
   "source": [
    "from src.visualization.plots import FANCONI_ANEMIA_GENE_SET, HR_GENE_SET, NHEJ_GENE_SET, POLYMERASE_GENE_SET\n",
    "\n",
    "\n",
    "for s in [FANCONI_ANEMIA_GENE_SET, HR_GENE_SET, NHEJ_GENE_SET, POLYMERASE_GENE_SET]:\n",
    "    print(len(s))"
   ]
  },
  {
   "cell_type": "code",
   "execution_count": 2,
   "metadata": {},
   "outputs": [
    {
     "name": "stdout",
     "output_type": "stream",
     "text": [
      "14\n",
      "2\n",
      "0\n"
     ]
    }
   ],
   "source": [
    "import numpy as np\n",
    "\n",
    "print(len(np.intersect1d(FANCONI_ANEMIA_GENE_SET, HR_GENE_SET)))\n",
    "print(len(np.intersect1d(NHEJ_GENE_SET, HR_GENE_SET)))\n",
    "print(len(np.intersect1d(FANCONI_ANEMIA_GENE_SET, NHEJ_GENE_SET)))"
   ]
  },
  {
   "cell_type": "code",
   "execution_count": 3,
   "metadata": {},
   "outputs": [],
   "source": [
    "import pandas as pd\n",
    "\n",
    "genes = pd.read_csv(\"../outlier_detection/artifacts/final_gene_list.tsv\", sep=\"\\t\", skiprows=2)[\"Gene\"].reset_index().rename(columns={\"index\": \"Rank\"})\n",
    "genes = genes.set_index(\"Gene\")"
   ]
  },
  {
   "cell_type": "code",
   "execution_count": 4,
   "metadata": {},
   "outputs": [
    {
     "name": "stdout",
     "output_type": "stream",
     "text": [
      "| Gene    |   Rank |\n",
      "|:--------|-------:|\n",
      "| Rpa3    |     11 |\n",
      "| Top3a   |     39 |\n",
      "| Fanci   |     58 |\n",
      "| Ube2t   |     60 |\n",
      "| Faap100 |    108 |\n",
      "| Fancc   |    117 |\n",
      "| Fancl   |    123 |\n",
      "| Fancm   |    166 |\n",
      "| Rad51   |    168 |\n",
      "| Fancb   |    198 |\n",
      "| Fanca   |    201 |\n",
      "| Telo2   |    209 |\n",
      "| Fancd2  |    231 |\n",
      "| Fancg   |    271 |\n",
      "| Brca1   |    396 |\n",
      "| Wdr48   |    402 |\n",
      "| Usp1    |    478 |\n",
      "| Rpa2    |    595 |\n",
      "| Rmi1    |    861 |\n",
      "| Rev1    |   1017 |\n",
      "| Rmi2    |   1096 |\n",
      "| Ercc1   |   1197 |\n",
      "| Rev3l   |   1897 |\n",
      "| Ercc4   |   1935 |\n",
      "| Atrip   |   1957 |\n",
      "| Rad51c  |   2045 |\n",
      "| Poli    |   2094 |\n",
      "| Fancf   |   2397 |\n",
      "| Rpa1    |   2831 |\n",
      "| Polh    |   3031 |\n",
      "| Slx4    |   3096 |\n",
      "| Blm     |   3165 |\n",
      "| Brca2   |   4304 |\n",
      "| Cenpx   |   4323 |\n",
      "| Polk    |   4690 |\n",
      "| Mlh1    |   4894 |\n",
      "| Poln    |   5749 |\n",
      "| Faap24  |   6316 |\n",
      "| Atr     |   6776 |\n",
      "| Slx1b   |   7289 |\n",
      "| Pms2    |   7409 |\n",
      "| Top3b   |   9433 |\n",
      "| Cenps   |  10607 |\n",
      "| Palb2   |  11514 |\n",
      "| Fan1    |  11534 |\n",
      "| Hes1    |  12138 |\n",
      "| Eme2    |  12217 |\n",
      "| Brip1   |  13825 |\n",
      "| Mus81   |  14483 |\n",
      "| Eme1    |  16074 |\n"
     ]
    }
   ],
   "source": [
    "import numpy as np\n",
    "\n",
    "print(genes.loc[np.intersect1d(genes.index, FANCONI_ANEMIA_GENE_SET), :].sort_values(\"Rank\").to_markdown())"
   ]
  },
  {
   "cell_type": "code",
   "execution_count": 5,
   "metadata": {},
   "outputs": [
    {
     "name": "stdout",
     "output_type": "stream",
     "text": [
      "| Gene    |   Rank |\n",
      "|:--------|-------:|\n",
      "| Xrcc5   |      3 |\n",
      "| Xrcc6   |      8 |\n",
      "| Mre11a  |     18 |\n",
      "| Rad50   |     22 |\n",
      "| Poll    |    204 |\n",
      "| Polm    |    633 |\n",
      "| Xrcc4   |    721 |\n",
      "| Dclre1c |    751 |\n",
      "| Lig4    |    912 |\n",
      "| Prkdc   |   1064 |\n",
      "| Fen1    |   1207 |\n",
      "| Dntt    |   8416 |\n"
     ]
    }
   ],
   "source": [
    "print(genes.loc[np.intersect1d(genes.index, NHEJ_GENE_SET), :].sort_values(\"Rank\").to_markdown())"
   ]
  },
  {
   "cell_type": "code",
   "execution_count": 6,
   "metadata": {},
   "outputs": [
    {
     "name": "stdout",
     "output_type": "stream",
     "text": [
      "| Gene     |   Rank |\n",
      "|:---------|-------:|\n",
      "| Rpa3     |     11 |\n",
      "| Mre11a   |     18 |\n",
      "| Rad50    |     22 |\n",
      "| Top3a    |     39 |\n",
      "| Sem1     |    111 |\n",
      "| Nbn      |    112 |\n",
      "| Pold2    |    148 |\n",
      "| Rad51    |    168 |\n",
      "| Atm      |    246 |\n",
      "| Pold1    |    251 |\n",
      "| Bard1    |    267 |\n",
      "| Rad51d   |    331 |\n",
      "| Topbp1   |    360 |\n",
      "| Brca1    |    396 |\n",
      "| Rpa2     |    595 |\n",
      "| Pold3    |    632 |\n",
      "| Rbbp8    |    645 |\n",
      "| Xrcc2    |    718 |\n",
      "| Sycp3    |    727 |\n",
      "| Xrcc3    |    868 |\n",
      "| Abraxas1 |   1665 |\n",
      "| Uimc1    |   1996 |\n",
      "| Rad51c   |   2045 |\n",
      "| Babam2   |   2184 |\n",
      "| Rad52    |   2463 |\n",
      "| Rpa1     |   2831 |\n",
      "| Blm      |   3165 |\n",
      "| Brca2    |   4304 |\n",
      "| Rad54l   |   5604 |\n",
      "| Rad54b   |   5992 |\n",
      "| Rad51b   |   6537 |\n",
      "| Brcc3    |   7668 |\n",
      "| Babam1   |   8603 |\n",
      "| Pold4    |   9028 |\n",
      "| Top3b    |   9433 |\n",
      "| Palb2    |  11514 |\n",
      "| Brip1    |  13825 |\n",
      "| Mus81    |  14483 |\n",
      "| Eme1     |  16074 |\n"
     ]
    }
   ],
   "source": [
    "print(genes.loc[np.intersect1d(genes.index, HR_GENE_SET), :].sort_values(\"Rank\").to_markdown())"
   ]
  }
 ],
 "metadata": {
  "kernelspec": {
   "display_name": "MUSICian",
   "language": "python",
   "name": "python3"
  },
  "language_info": {
   "codemirror_mode": {
    "name": "ipython",
    "version": 3
   },
   "file_extension": ".py",
   "mimetype": "text/x-python",
   "name": "python",
   "nbconvert_exporter": "python",
   "pygments_lexer": "ipython3",
   "version": "3.9.13"
  },
  "orig_nbformat": 4,
  "vscode": {
   "interpreter": {
    "hash": "428a601510a5f32e3d3b942ab75f6ba62837b2d513da56945220e688e5061952"
   }
  }
 },
 "nbformat": 4,
 "nbformat_minor": 2
}
