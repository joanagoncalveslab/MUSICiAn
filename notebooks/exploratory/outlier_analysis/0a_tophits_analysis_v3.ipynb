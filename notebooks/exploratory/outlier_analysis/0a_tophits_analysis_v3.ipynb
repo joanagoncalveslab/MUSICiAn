{
 "cells": [
  {
   "cell_type": "code",
   "execution_count": 1,
   "metadata": {},
   "outputs": [],
   "source": [
    "# OPTIONAL: Load the \"autoreload\" eX_orig[alias]tension so that code can change\n",
    "%load_ext autoreload\n",
    "\n",
    "# OPTIONAL: always reload modules so that as you change code in src, it gets loaded\n",
    "%autoreload 2\n",
    "\n",
    "%matplotlib inline"
   ]
  },
  {
   "cell_type": "code",
   "execution_count": 2,
   "metadata": {},
   "outputs": [
    {
     "data": {
      "text/plain": [
       "733.3333333333334"
      ]
     },
     "execution_count": 2,
     "metadata": {},
     "output_type": "execute_result"
    }
   ],
   "source": [
    "2200/3"
   ]
  },
  {
   "cell_type": "code",
   "execution_count": 3,
   "metadata": {},
   "outputs": [
    {
     "data": {
      "text/plain": [
       "2333"
      ]
     },
     "execution_count": 3,
     "metadata": {},
     "output_type": "execute_result"
    }
   ],
   "source": [
    "(761 * 3) + 50"
   ]
  },
  {
   "cell_type": "code",
   "execution_count": 4,
   "metadata": {},
   "outputs": [],
   "source": [
    "# Import Biopython modules to interact with KEGG\n",
    "from Bio import SeqIO\n",
    "from Bio.KEGG import REST\n",
    "from Bio.KEGG.KGML import KGML_parser\n",
    "from Bio.Graphics.KGML_vis import KGMLCanvas\n",
    "\n",
    "import pandas as pd\n",
    "import numpy as np\n",
    "from functools import reduce\n",
    "\n",
    "from src.visualization.plots import HR_GENE_SET, NHEJ_GENE_SET, FANCONI_ANEMIA_GENE_SET\n",
    "from src.config import get_common_barcodes, HOME_PATH, get_hussmann_supplementary_xlsx, get_experiment_artifacts\n",
    "\n",
    "\n",
    "MIN_RANKED_DSB_GENE = 3000\n",
    "T = \"isGODSBRepair\"\n",
    "\n",
    "if T == \"isGORepair\":\n",
    "    MIN_RANKED_DSB_GENE = 3000\n",
    "    NUM_PROMISING_GENES = 450\n",
    "else:\n",
    "    MIN_RANKED_DSB_GENE = 13000\n",
    "    # NUM_PROMISING_GENES = 410 # initial setting\n",
    "    NUM_PROMISING_GENES = 454 # expanded setting"
   ]
  },
  {
   "cell_type": "code",
   "execution_count": 5,
   "metadata": {},
   "outputs": [
    {
     "data": {
      "text/html": [
       "<div>\n",
       "<style scoped>\n",
       "    .dataframe tbody tr th:only-of-type {\n",
       "        vertical-align: middle;\n",
       "    }\n",
       "\n",
       "    .dataframe tbody tr th {\n",
       "        vertical-align: top;\n",
       "    }\n",
       "\n",
       "    .dataframe thead th {\n",
       "        text-align: right;\n",
       "    }\n",
       "</style>\n",
       "<table border=\"1\" class=\"dataframe\">\n",
       "  <thead>\n",
       "    <tr style=\"text-align: right;\">\n",
       "      <th></th>\n",
       "      <th>Gene</th>\n",
       "      <th>Rank</th>\n",
       "      <th>Pseudo-control</th>\n",
       "    </tr>\n",
       "  </thead>\n",
       "  <tbody>\n",
       "    <tr>\n",
       "      <th>1</th>\n",
       "      <td>Atp6v1g1</td>\n",
       "      <td>1.0</td>\n",
       "      <td>False</td>\n",
       "    </tr>\n",
       "    <tr>\n",
       "      <th>2</th>\n",
       "      <td>H2ac18</td>\n",
       "      <td>2.0</td>\n",
       "      <td>False</td>\n",
       "    </tr>\n",
       "    <tr>\n",
       "      <th>3</th>\n",
       "      <td>Metap2</td>\n",
       "      <td>3.0</td>\n",
       "      <td>False</td>\n",
       "    </tr>\n",
       "    <tr>\n",
       "      <th>4</th>\n",
       "      <td>Xrcc5</td>\n",
       "      <td>4.0</td>\n",
       "      <td>False</td>\n",
       "    </tr>\n",
       "    <tr>\n",
       "      <th>5</th>\n",
       "      <td>H2ax</td>\n",
       "      <td>5.0</td>\n",
       "      <td>False</td>\n",
       "    </tr>\n",
       "  </tbody>\n",
       "</table>\n",
       "</div>"
      ],
      "text/plain": [
       "       Gene  Rank Pseudo-control\n",
       "1  Atp6v1g1   1.0          False\n",
       "2    H2ac18   2.0          False\n",
       "3    Metap2   3.0          False\n",
       "4     Xrcc5   4.0          False\n",
       "5      H2ax   5.0          False"
      ]
     },
     "execution_count": 5,
     "metadata": {},
     "output_type": "execute_result"
    }
   ],
   "source": [
    "final_genes = pd.read_csv(\"../outlier_detection/artifacts/final_gene_list.tsv\", sep=\"\\t\", usecols=[0, 5, 6], skiprows=1)[1:].rename(columns={\"Measure\": \"Gene\"})\n",
    "final_genes.head()"
   ]
  },
  {
   "cell_type": "code",
   "execution_count": 6,
   "metadata": {},
   "outputs": [
    {
     "data": {
      "text/plain": [
       "'/Users/colm/repos/MUSICian/notebooks/exploratory/outlier_detection/artifacts/paired-replicates.robust_cov.700//augmented_with_GO_outlier_results.pkl'"
      ]
     },
     "execution_count": 6,
     "metadata": {},
     "output_type": "execute_result"
    }
   ],
   "source": [
    "results_f = get_experiment_artifacts() + \"/augmented_with_GO_outlier_results.pkl\"\n",
    "full_results_df = pd.read_pickle(results_f)\n",
    "results_f"
   ]
  },
  {
   "cell_type": "code",
   "execution_count": 7,
   "metadata": {},
   "outputs": [],
   "source": [
    "final_genes = final_genes.set_index(\"Gene\").join(full_results_df[[(\"Global\", T)]].droplevel(axis=1, level=0))"
   ]
  },
  {
   "cell_type": "code",
   "execution_count": 8,
   "metadata": {},
   "outputs": [
    {
     "data": {
      "text/plain": [
       "(454,)"
      ]
     },
     "execution_count": 8,
     "metadata": {},
     "output_type": "execute_result"
    }
   ],
   "source": [
    "nonGODSBRepair = final_genes[~final_genes[T]]\n",
    "listA = nonGODSBRepair[:NUM_PROMISING_GENES].index.to_series()\n",
    "listA.shape"
   ]
  },
  {
   "cell_type": "code",
   "execution_count": 9,
   "metadata": {},
   "outputs": [
    {
     "data": {
      "text/plain": [
       "(254,)"
      ]
     },
     "execution_count": 9,
     "metadata": {},
     "output_type": "execute_result"
    }
   ],
   "source": [
    "GODSBRepair = final_genes[final_genes[T]]\n",
    "listB = GODSBRepair[GODSBRepair[\"Rank\"] < MIN_RANKED_DSB_GENE].index.to_series()\n",
    "listB.shape"
   ]
  },
  {
   "cell_type": "code",
   "execution_count": 10,
   "metadata": {},
   "outputs": [
    {
     "data": {
      "text/plain": [
       "476"
      ]
     },
     "execution_count": 10,
     "metadata": {},
     "output_type": "execute_result"
    }
   ],
   "source": [
    "all_hussmann_repair_genes = pd.read_excel(get_hussmann_supplementary_xlsx(4), sheet_name=\"Table S4\", skiprows=1)\n",
    "all_hussmann_repair_genes = all_hussmann_repair_genes[\"Gene\"].str.lower().str.capitalize().dropna()\n",
    "all_hussmann_repair_genes.shape[0]"
   ]
  },
  {
   "cell_type": "code",
   "execution_count": 11,
   "metadata": {},
   "outputs": [
    {
     "data": {
      "text/html": [
       "<div>\n",
       "<style scoped>\n",
       "    .dataframe tbody tr th:only-of-type {\n",
       "        vertical-align: middle;\n",
       "    }\n",
       "\n",
       "    .dataframe tbody tr th {\n",
       "        vertical-align: top;\n",
       "    }\n",
       "\n",
       "    .dataframe thead th {\n",
       "        text-align: right;\n",
       "    }\n",
       "</style>\n",
       "<table border=\"1\" class=\"dataframe\">\n",
       "  <thead>\n",
       "    <tr style=\"text-align: right;\">\n",
       "      <th></th>\n",
       "      <th>Rank</th>\n",
       "      <th>Pseudo-control</th>\n",
       "      <th>isGODSBRepair</th>\n",
       "    </tr>\n",
       "    <tr>\n",
       "      <th>Gene</th>\n",
       "      <th></th>\n",
       "      <th></th>\n",
       "      <th></th>\n",
       "    </tr>\n",
       "  </thead>\n",
       "  <tbody>\n",
       "    <tr>\n",
       "      <th>Aptx</th>\n",
       "      <td>3648.0</td>\n",
       "      <td>False</td>\n",
       "      <td>True</td>\n",
       "    </tr>\n",
       "    <tr>\n",
       "      <th>Ascc3</th>\n",
       "      <td>5404.0</td>\n",
       "      <td>False</td>\n",
       "      <td>False</td>\n",
       "    </tr>\n",
       "    <tr>\n",
       "      <th>Atm</th>\n",
       "      <td>247.0</td>\n",
       "      <td>False</td>\n",
       "      <td>True</td>\n",
       "    </tr>\n",
       "    <tr>\n",
       "      <th>Atr</th>\n",
       "      <td>6777.0</td>\n",
       "      <td>False</td>\n",
       "      <td>True</td>\n",
       "    </tr>\n",
       "    <tr>\n",
       "      <th>Atrip</th>\n",
       "      <td>1958.0</td>\n",
       "      <td>False</td>\n",
       "      <td>False</td>\n",
       "    </tr>\n",
       "    <tr>\n",
       "      <th>...</th>\n",
       "      <td>...</td>\n",
       "      <td>...</td>\n",
       "      <td>...</td>\n",
       "    </tr>\n",
       "    <tr>\n",
       "      <th>Sem1</th>\n",
       "      <td>112.0</td>\n",
       "      <td>False</td>\n",
       "      <td>True</td>\n",
       "    </tr>\n",
       "    <tr>\n",
       "      <th>H2ax</th>\n",
       "      <td>5.0</td>\n",
       "      <td>False</td>\n",
       "      <td>True</td>\n",
       "    </tr>\n",
       "    <tr>\n",
       "      <th>Abraxas1</th>\n",
       "      <td>1666.0</td>\n",
       "      <td>False</td>\n",
       "      <td>True</td>\n",
       "    </tr>\n",
       "    <tr>\n",
       "      <th>Faap24</th>\n",
       "      <td>6317.0</td>\n",
       "      <td>False</td>\n",
       "      <td>True</td>\n",
       "    </tr>\n",
       "    <tr>\n",
       "      <th>Trp53bp1</th>\n",
       "      <td>404.0</td>\n",
       "      <td>False</td>\n",
       "      <td>True</td>\n",
       "    </tr>\n",
       "  </tbody>\n",
       "</table>\n",
       "<p>113 rows × 3 columns</p>\n",
       "</div>"
      ],
      "text/plain": [
       "            Rank Pseudo-control  isGODSBRepair\n",
       "Gene                                          \n",
       "Aptx      3648.0          False           True\n",
       "Ascc3     5404.0          False          False\n",
       "Atm        247.0          False           True\n",
       "Atr       6777.0          False           True\n",
       "Atrip     1958.0          False          False\n",
       "...          ...            ...            ...\n",
       "Sem1       112.0          False           True\n",
       "H2ax         5.0          False           True\n",
       "Abraxas1  1666.0          False           True\n",
       "Faap24    6317.0          False           True\n",
       "Trp53bp1   404.0          False           True\n",
       "\n",
       "[113 rows x 3 columns]"
      ]
     },
     "execution_count": 11,
     "metadata": {},
     "output_type": "execute_result"
    }
   ],
   "source": [
    "hussmann_repair_genes = pd.read_excel(get_hussmann_supplementary_xlsx(4), sheet_name=\"Table S4\", skiprows=1)\n",
    "hussmann_repair_genes = hussmann_repair_genes[\"Gene.1\"].str.lower().str.capitalize().dropna()\n",
    "most_active_hussmann_genes = np.intersect1d(hussmann_repair_genes, final_genes.index)\n",
    "missing_hussmann_genes = list(set(hussmann_repair_genes) - set(most_active_hussmann_genes))\n",
    "most_active_hussmann_genes = final_genes.loc[list(np.intersect1d(final_genes.index, most_active_hussmann_genes))+ [\"Wapl\", \"Sem1\", \"H2ax\", \"Abraxas1\", \"Faap24\", \"Trp53bp1\"]]\n",
    "most_active_hussmann_genes"
   ]
  },
  {
   "cell_type": "code",
   "execution_count": 12,
   "metadata": {},
   "outputs": [
    {
     "name": "stdout",
     "output_type": "stream",
     "text": [
      "SSBP1, H2AFX, TP53BP1, DTL, DUT, C19ORF40, NHEJ1, SHFM1, FANCE, FAM175A, WAPAL\n"
     ]
    }
   ],
   "source": [
    "print(\", \".join(missing_hussmann_genes).upper())"
   ]
  },
  {
   "attachments": {},
   "cell_type": "markdown",
   "metadata": {},
   "source": [
    "- Could not find another name for \"NHEJ1\" that was in our list. See Xlf and cernunnos\n",
    "- Could not find another name for \"FANCE\". Also tried Face\n",
    "----------\n",
    "- \"WAPAL\" should be Wapl\n",
    "- \"SHFM1\" should be Sem1\n",
    "- \"H2AFX\" shuld be H2ax\n",
    "- \"FAM175A\" should be Abraxas1\n",
    "- \"C19ORF40\" should be Faap24\n",
    "- \"TP53BP1\" should be Trp53bp1\n",
    "----------\n",
    "- \"Dut\" sgRNAs were filtered out at the QA stage.\n",
    "- \"Ssbp1\" filtered out at QA stage\n",
    "- \"DTL\" filtered out at QA stage"
   ]
  },
  {
   "cell_type": "code",
   "execution_count": 13,
   "metadata": {},
   "outputs": [
    {
     "data": {
      "text/plain": [
       "(155,)"
      ]
     },
     "execution_count": 13,
     "metadata": {},
     "output_type": "execute_result"
    }
   ],
   "source": [
    "from src.visualization.plots import NHEJ_GENE_SET, HR_GENE_SET, FANCONI_ANEMIA_GENE_SET\n",
    "\n",
    "listC = np.unique(pd.Series(most_active_hussmann_genes[most_active_hussmann_genes[\"Rank\"] < MIN_RANKED_DSB_GENE].index.to_list() \\\n",
    "                            + [\"Dut\", \"Ssbp1\", \"Dtl\", \"Nhej1\", \"Fance\"] + NHEJ_GENE_SET + HR_GENE_SET + FANCONI_ANEMIA_GENE_SET))\n",
    "listC.shape"
   ]
  },
  {
   "cell_type": "code",
   "execution_count": 14,
   "metadata": {},
   "outputs": [
    {
     "data": {
      "text/plain": [
       "(761,)"
      ]
     },
     "execution_count": 14,
     "metadata": {},
     "output_type": "execute_result"
    }
   ],
   "source": [
    "from functools import reduce\n",
    "\n",
    "candidates = reduce(np.union1d, (listA, listB, listC))\n",
    "candidates.shape"
   ]
  },
  {
   "cell_type": "code",
   "execution_count": 15,
   "metadata": {},
   "outputs": [
    {
     "data": {
      "image/png": "[encoded data removed]",
      "text/plain": [
       "<Figure size 640x480 with 1 Axes>"
      ]
     },
     "metadata": {},
     "output_type": "display_data"
    }
   ],
   "source": [
    "import matplotlib.pyplot as plt\n",
    "from matplotlib_venn import venn3\n",
    "\n",
    "vd = venn3([set(listA), set(listB), set(listC)], [\"Not Annotated as DSB repair\", \"Annontated as DSB repair ({}/{})\".format(len(listB), GODSBRepair.shape[0]), \"Hussmann et al. 2021 ({}/{})\".format(np.intersect1d(listC, most_active_hussmann_genes.index).shape[0], most_active_hussmann_genes.shape[0])])\n",
    "\n",
    "txt=\"Total number of genes: {}\\nNumber of Barcodes: {} + 60 non-targetting control barcodes\\nRatio of annotated vs not {}/{}\".format(candidates.shape[0], candidates.shape[0]*3, candidates.shape[0]-len(listA), len(listA))\n",
    "plt.figtext(0.5, 0.01, txt, wrap=True, horizontalalignment='center', fontsize=10)\n",
    "\n",
    "lbl = vd.get_label_by_id(\"C\")\n",
    "x, y = lbl.get_position()\n",
    "lbl.set_position((x-0.1, y+0.4))\n",
    "\n",
    "plt.show()"
   ]
  },
  {
   "cell_type": "code",
   "execution_count": 16,
   "metadata": {},
   "outputs": [
    {
     "name": "stdout",
     "output_type": "stream",
     "text": [
      "isGORepair\n",
      "False         417\n",
      "True           37\n",
      "dtype: int64\n"
     ]
    },
    {
     "data": {
      "text/plain": [
       "Text(0.5, 1.0, \"Annotated as ''repair'' in GO\")"
      ]
     },
     "execution_count": 16,
     "metadata": {},
     "output_type": "execute_result"
    },
    {
     "data": {
      "image/png": "[encoded data removed]",
      "text/plain": [
       "<Figure size 640x480 with 1 Axes>"
      ]
     },
     "metadata": {},
     "output_type": "display_data"
    }
   ],
   "source": [
    "\n",
    "pie_df = full_results_df[[(\"Global\", \"isGORepair\")]].droplevel(axis=1, level=0).loc[listA].value_counts()\n",
    "print(pie_df)\n",
    "pie_df.plot.pie(labels=[\"No ({})\".format(pie_df.iloc[0]), \"Yes ({})\".format(pie_df.iloc[1])])\n",
    "\n",
    "plt.title(\"Annotated as ''repair'' in GO\")\n",
    "\n"
   ]
  },
  {
   "cell_type": "code",
   "execution_count": 17,
   "metadata": {},
   "outputs": [
    {
     "data": {
      "text/plain": [
       "Text(0.5, 1.0, 'In Hussmann et al 2021')"
      ]
     },
     "execution_count": 17,
     "metadata": {},
     "output_type": "execute_result"
    },
    {
     "data": {
      "image/png": "[encoded data removed]",
      "text/plain": [
       "<Figure size 640x480 with 1 Axes>"
      ]
     },
     "metadata": {},
     "output_type": "display_data"
    }
   ],
   "source": [
    "pie_df = full_results_df[[(\"Global\", \"isGORepair\")]].droplevel(axis=1, level=0).loc[listA].index.to_series().isin(all_hussmann_repair_genes).value_counts()\n",
    "\n",
    "pie_df.plot.pie(labels=[\"No ({})\".format(pie_df.iloc[0]), \"Yes ({})\".format(pie_df.iloc[1])])\n",
    "\n",
    "plt.title(\"In Hussmann et al 2021\")"
   ]
  },
  {
   "cell_type": "code",
   "execution_count": 27,
   "metadata": {},
   "outputs": [
    {
     "data": {
      "text/plain": [
       "Sample  Measure\n",
       "Global  isGODDR    66\n",
       "dtype: int64"
      ]
     },
     "execution_count": 27,
     "metadata": {},
     "output_type": "execute_result"
    }
   ],
   "source": [
    "full_results_df[[(\"Global\", \"isGODDR\")]]"
   ]
  },
  {
   "cell_type": "code",
   "execution_count": 28,
   "metadata": {},
   "outputs": [
    {
     "data": {
      "text/plain": [
       "Text(0.5, 1.0, \"Annotated as ''damage response'' in GO\")"
      ]
     },
     "execution_count": 28,
     "metadata": {},
     "output_type": "execute_result"
    },
    {
     "data": {
      "image/png": "[encoded data removed]",
      "text/plain": [
       "<Figure size 640x480 with 1 Axes>"
      ]
     },
     "metadata": {},
     "output_type": "display_data"
    }
   ],
   "source": [
    "pie_df = full_results_df[[(\"Global\", \"isGODDR\")]].droplevel(axis=1, level=0).loc[listA].value_counts()\n",
    "\n",
    "pie_df.plot.pie(labels=[\"No ({})\".format(pie_df.iloc[0]), \"Yes ({})\".format(pie_df.iloc[1])])\n",
    "\n",
    "plt.title(\"Annotated as ''damage response'' in GO\")"
   ]
  },
  {
   "cell_type": "code",
   "execution_count": 19,
   "metadata": {},
   "outputs": [
    {
     "data": {
      "text/plain": [
       "Text(0.5, 1.0, 'Histogram of ranks of Hussmann gene set')"
      ]
     },
     "execution_count": 19,
     "metadata": {},
     "output_type": "execute_result"
    },
    {
     "data": {
      "image/png": "[encoded data removed]",
      "text/plain": [
       "<Figure size 640x480 with 1 Axes>"
      ]
     },
     "metadata": {},
     "output_type": "display_data"
    }
   ],
   "source": [
    "final_genes.loc[np.intersect1d(listC, final_genes.index), \"Rank\"].plot.hist()\n",
    "plt.title(\"Histogram of ranks of Hussmann gene set\")"
   ]
  },
  {
   "cell_type": "code",
   "execution_count": 20,
   "metadata": {},
   "outputs": [],
   "source": [
    "candidate_details = final_genes.loc[np.intersect1d(candidates, final_genes.index), [\"Rank\"]]\n",
    "candidate_details[\"Not Annotated\"] = candidate_details.index.to_series().apply(lambda x: x in listA)"
   ]
  },
  {
   "cell_type": "code",
   "execution_count": 21,
   "metadata": {},
   "outputs": [
    {
     "data": {
      "text/plain": [
       "500.0"
      ]
     },
     "execution_count": 21,
     "metadata": {},
     "output_type": "execute_result"
    }
   ],
   "source": [
    "candidate_details[candidate_details[\"Not Annotated\"]][\"Rank\"].max()"
   ]
  },
  {
   "cell_type": "code",
   "execution_count": 22,
   "metadata": {},
   "outputs": [
    {
     "data": {
      "text/plain": [
       "761"
      ]
     },
     "execution_count": 22,
     "metadata": {},
     "output_type": "execute_result"
    }
   ],
   "source": [
    "candidates.shape[0]"
   ]
  },
  {
   "cell_type": "code",
   "execution_count": 23,
   "metadata": {},
   "outputs": [],
   "source": [
    "np.savetxt(\"artifacts/candidates.txt\", candidates, delimiter=\",\", fmt='%s')"
   ]
  },
  {
   "cell_type": "code",
   "execution_count": 24,
   "metadata": {},
   "outputs": [],
   "source": [
    "from src.visualization.plots import HR_GENE_SET, FANCONI_ANEMIA_GENE_SET, NHEJ_GENE_SET"
   ]
  },
  {
   "cell_type": "code",
   "execution_count": 25,
   "metadata": {},
   "outputs": [
    {
     "name": "stdout",
     "output_type": "stream",
     "text": [
      "HR\n",
      "included\n",
      "Abraxas1 Atm Babam1 Babam2 Bard1 Blm Brca1 Brca2 Brcc3 Brcc3dc Brip1 Eme1 Mre11a Mus81 Nbn Palb2 Pold1 Pold2 Pold3 Pold4 Rad50 Rad51 Rad51b Rad51c Rad51d Rad52 Rad54b Rad54l Rbbp8 Rpa1 Rpa2 Rpa3 Sem1 Ssbp1 Sycp3 Top3a Top3b Topbp1 Uimc1 Xrcc2 Xrcc3\n",
      "41\n",
      "excluded\n",
      "\n",
      "0\n",
      "FA\n",
      "included\n",
      "Atr Atrip Blm Brca1 Brca2 Brip1 Cenps Cenpx Eme1 Eme2 Ercc1 Ercc4 Faap100 Faap24 Fan1 Fanca Fancb Fancc Fancd2 Fance Fancf Fancg Fanci Fancl Fancm Hes1 Mlh1 Mus81 Palb2 Pms2 Polh Poli Polk Poln Rad51 Rad51c Rev1 Rev3l Rmi1 Rmi2 Rpa1 Rpa2 Rpa3 Slx1b Slx4 Telo2 Top3a Top3b Ube2t Usp1 Wdr48\n",
      "51\n",
      "excluded\n",
      "\n",
      "0\n",
      "NHEJ\n",
      "included\n",
      "Dclre1c Dntt Fen1 Lig4 Mre11a Nhej1 Poll Polm Prkdc Rad50 Xrcc4 Xrcc5 Xrcc6\n",
      "13\n",
      "excluded\n",
      "\n",
      "0\n"
     ]
    }
   ],
   "source": [
    "def print_details(pathway):\n",
    "    print(\"included\")\n",
    "    included_list = list(np.intersect1d(pathway, candidates))\n",
    "    print(\" \".join(included_list))\n",
    "    print(len(included_list))\n",
    "\n",
    "    print(\"excluded\")\n",
    "    excluded_list = list(set(pathway) - set(candidates))\n",
    "    print(\" \".join(excluded_list))\n",
    "    print(len(excluded_list))\n",
    "\n",
    "print(\"HR\")\n",
    "print_details(HR_GENE_SET)\n",
    "print(\"FA\")\n",
    "print_details(FANCONI_ANEMIA_GENE_SET)\n",
    "print(\"NHEJ\")\n",
    "print_details(NHEJ_GENE_SET)"
   ]
  }
 ],
 "metadata": {
  "kernelspec": {
   "display_name": "MUSICian",
   "language": "python",
   "name": "python3"
  },
  "language_info": {
   "codemirror_mode": {
    "name": "ipython",
    "version": 3
   },
   "file_extension": ".py",
   "mimetype": "text/x-python",
   "name": "python",
   "nbconvert_exporter": "python",
   "pygments_lexer": "ipython3",
   "version": "3.9.13"
  },
  "orig_nbformat": 4
 },
 "nbformat": 4,
 "nbformat_minor": 2
}
