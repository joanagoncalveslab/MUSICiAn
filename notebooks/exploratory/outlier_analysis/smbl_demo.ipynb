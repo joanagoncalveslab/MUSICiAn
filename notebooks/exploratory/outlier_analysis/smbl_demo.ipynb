{
 "cells": [
  {
   "cell_type": "code",
   "execution_count": 6,
   "metadata": {},
   "outputs": [
    {
     "ename": "ValueError",
     "evalue": "Errors in SBML document",
     "output_type": "error",
     "traceback": [
      "\u001b[0;31m---------------------------------------------------------------------------\u001b[0m",
      "\u001b[0;31mValueError\u001b[0m                                Traceback (most recent call last)",
      "\u001b[1;32m/Users/colm/repos/MUSICian/notebooks/exploratory/outlier_analysis/smbl_demo.ipynb Cell 1\u001b[0m in \u001b[0;36m7\n\u001b[1;32m      <a href='vscode-notebook-cell:/Users/colm/repos/MUSICian/notebooks/exploratory/outlier_analysis/smbl_demo.ipynb#W0sZmlsZQ%3D%3D?line=3'>4</a>\u001b[0m model \u001b[39m=\u001b[39m file\u001b[39m.\u001b[39mread()\n\u001b[1;32m      <a href='vscode-notebook-cell:/Users/colm/repos/MUSICian/notebooks/exploratory/outlier_analysis/smbl_demo.ipynb#W0sZmlsZQ%3D%3D?line=4'>5</a>\u001b[0m file\u001b[39m.\u001b[39mclose()\n\u001b[0;32m----> <a href='vscode-notebook-cell:/Users/colm/repos/MUSICian/notebooks/exploratory/outlier_analysis/smbl_demo.ipynb#W0sZmlsZQ%3D%3D?line=6'>7</a>\u001b[0m model \u001b[39m=\u001b[39m simplesbml\u001b[39m.\u001b[39;49mloadSBMLStr(model)\n\u001b[1;32m      <a href='vscode-notebook-cell:/Users/colm/repos/MUSICian/notebooks/exploratory/outlier_analysis/smbl_demo.ipynb#W0sZmlsZQ%3D%3D?line=8'>9</a>\u001b[0m \u001b[39mprint\u001b[39m (\u001b[39m'\u001b[39m\u001b[39mNum compartmetns = \u001b[39m\u001b[39m'\u001b[39m, model\u001b[39m.\u001b[39mgetNumCompartmentIds())\n\u001b[1;32m     <a href='vscode-notebook-cell:/Users/colm/repos/MUSICian/notebooks/exploratory/outlier_analysis/smbl_demo.ipynb#W0sZmlsZQ%3D%3D?line=9'>10</a>\u001b[0m \u001b[39mprint\u001b[39m (\u001b[39m'\u001b[39m\u001b[39mNum parameters =\u001b[39m\u001b[39m'\u001b[39m, model\u001b[39m.\u001b[39mgetNumParameters())\n",
      "File \u001b[0;32m~/anaconda3/envs/MUSICian/lib/python3.9/site-packages/simplesbml/simplesbml.py:35\u001b[0m, in \u001b[0;36mloadSBMLStr\u001b[0;34m(sbmlStr)\u001b[0m\n\u001b[1;32m     31\u001b[0m \u001b[39mdef\u001b[39;00m \u001b[39mloadSBMLStr\u001b[39m (sbmlStr):\n\u001b[1;32m     32\u001b[0m     \u001b[39m\"\"\"\u001b[39;00m\n\u001b[1;32m     33\u001b[0m \u001b[39m    Load an SBML model in the form of a string and return an instance to SBMLModel\u001b[39;00m\n\u001b[1;32m     34\u001b[0m \u001b[39m    \"\"\"\u001b[39;00m\n\u001b[0;32m---> 35\u001b[0m     \u001b[39mreturn\u001b[39;00m SbmlModel (sbmlStr\u001b[39m=\u001b[39;49msbmlStr)\n",
      "File \u001b[0;32m~/anaconda3/envs/MUSICian/lib/python3.9/site-packages/simplesbml/simplesbml.py:110\u001b[0m, in \u001b[0;36mSbmlModel.__init__\u001b[0;34m(self, time_units, extent_units, sub_units, level, version, sbmlStr, sbmlFile)\u001b[0m\n\u001b[1;32m    107\u001b[0m     \u001b[39melse\u001b[39;00m:\n\u001b[1;32m    108\u001b[0m        \u001b[39mraise\u001b[39;00m \u001b[39mException\u001b[39;00m (\u001b[39m'\u001b[39m\u001b[39mSpecified file name does not appear to be a file?\u001b[39m\u001b[39m'\u001b[39m)    \n\u001b[0;32m--> 110\u001b[0m _checkSBMLDocument(\u001b[39mself\u001b[39;49m\u001b[39m.\u001b[39;49mdocument)\n\u001b[1;32m    111\u001b[0m \u001b[39mself\u001b[39m\u001b[39m.\u001b[39mmodel \u001b[39m=\u001b[39m \u001b[39mself\u001b[39m\u001b[39m.\u001b[39mdocument\u001b[39m.\u001b[39mgetModel()\n",
      "File \u001b[0;32m~/anaconda3/envs/MUSICian/lib/python3.9/site-packages/simplesbml/simplesbml.py:27\u001b[0m, in \u001b[0;36m_checkSBMLDocument\u001b[0;34m(document)\u001b[0m\n\u001b[1;32m     25\u001b[0m document\u001b[39m.\u001b[39mgetErrorLog()\u001b[39m.\u001b[39mgetNumFailsWithSeverity(\u001b[39m2\u001b[39m)\n\u001b[1;32m     26\u001b[0m \u001b[39mif\u001b[39;00m (document\u001b[39m.\u001b[39mgetNumErrors() \u001b[39m>\u001b[39m \u001b[39m0\u001b[39m):\n\u001b[0;32m---> 27\u001b[0m   \u001b[39mraise\u001b[39;00m \u001b[39mValueError\u001b[39;00m(\u001b[39m\"\u001b[39m\u001b[39mErrors in SBML document\u001b[39m\u001b[39m\"\u001b[39m)\n",
      "\u001b[0;31mValueError\u001b[0m: Errors in SBML document"
     ]
    }
   ],
   "source": [
    "import simplesbml\n",
    "\n",
    "file = open(\"artifacts/kegg/mmu03450.xml\", \"r\")\n",
    "model = file.read()\n",
    "file.close()\n",
    "\n",
    "model = simplesbml.loadSBMLStr(model)\n",
    "\n",
    "print ('Num compartmetns = ', model.getNumCompartmentIds())\n",
    "print ('Num parameters =', model.getNumParameters())\n",
    "print ('Num species =', model.getNumSpecies())\n",
    "print ('Num floating species = ', model.getNumFloatingSpecies())\n",
    "print ('Num floating species = ', model.getNumBoundarySpecies())\n",
    "print ('Num reactions = ', model.getNumReactions())\n",
    "print (model.getListOfCompartments())\n",
    "print (model.getListOfAllSpecies())\n",
    "print ('list of floating species = ', model.getListOfFloatingSpecies())\n",
    "print ('list of boundary species = ', model.getListOfBoundarySpecies())\n",
    "print ('List of reactions = ', model.getListOfReactionIds())\n",
    "print ('List of rules = ', model.getListOfRuleIds())"
   ]
  }
 ],
 "metadata": {
  "kernelspec": {
   "display_name": "MUSICian",
   "language": "python",
   "name": "python3"
  },
  "language_info": {
   "codemirror_mode": {
    "name": "ipython",
    "version": 3
   },
   "file_extension": ".py",
   "mimetype": "text/x-python",
   "name": "python",
   "nbconvert_exporter": "python",
   "pygments_lexer": "ipython3",
   "version": "3.9.13"
  },
  "orig_nbformat": 4
 },
 "nbformat": 4,
 "nbformat_minor": 2
}
