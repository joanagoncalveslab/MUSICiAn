{
 "cells": [
  {
   "cell_type": "code",
   "execution_count": 1,
   "metadata": {},
   "outputs": [],
   "source": [
    "# OPTIONAL: Load the \"autoreload\" eX_orig[alias]tension so that code can change\n",
    "%load_ext autoreload\n",
    "\n",
    "# OPTIONAL: always reload modules so that as you change code in src, it gets loaded\n",
    "%autoreload 2\n",
    "\n",
    "%matplotlib inline"
   ]
  },
  {
   "cell_type": "code",
   "execution_count": 2,
   "metadata": {},
   "outputs": [],
   "source": [
    "# Import Biopython modules to interact with KEGG\n",
    "from Bio import SeqIO\n",
    "from Bio.KEGG import REST\n",
    "from Bio.KEGG.KGML import KGML_parser\n",
    "from Bio.Graphics.KGML_vis import KGMLCanvas\n",
    "\n",
    "import pandas as pd\n",
    "import numpy as np\n",
    "from functools import reduce\n",
    "\n",
    "from src.visualization.plots import HR_GENE_SET, NHEJ_GENE_SET, FANCONI_ANEMIA_GENE_SET\n",
    "from src.config import get_common_barcodes, HOME_PATH, get_hussmann_supplementary_xlsx\n",
    "\n",
    "\n",
    "TOP_GENES_LIMIT = 400"
   ]
  },
  {
   "cell_type": "code",
   "execution_count": 3,
   "metadata": {},
   "outputs": [
    {
     "data": {
      "text/html": [
       "<div>\n",
       "<style scoped>\n",
       "    .dataframe tbody tr th:only-of-type {\n",
       "        vertical-align: middle;\n",
       "    }\n",
       "\n",
       "    .dataframe tbody tr th {\n",
       "        vertical-align: top;\n",
       "    }\n",
       "\n",
       "    .dataframe thead th {\n",
       "        text-align: right;\n",
       "    }\n",
       "</style>\n",
       "<table border=\"1\" class=\"dataframe\">\n",
       "  <thead>\n",
       "    <tr style=\"text-align: right;\">\n",
       "      <th></th>\n",
       "      <th>Gene</th>\n",
       "      <th>Pseudo-control</th>\n",
       "    </tr>\n",
       "  </thead>\n",
       "  <tbody>\n",
       "    <tr>\n",
       "      <th>1</th>\n",
       "      <td>Atp6v1g1</td>\n",
       "      <td>False</td>\n",
       "    </tr>\n",
       "    <tr>\n",
       "      <th>2</th>\n",
       "      <td>H2ac18</td>\n",
       "      <td>False</td>\n",
       "    </tr>\n",
       "    <tr>\n",
       "      <th>3</th>\n",
       "      <td>Metap2</td>\n",
       "      <td>False</td>\n",
       "    </tr>\n",
       "    <tr>\n",
       "      <th>4</th>\n",
       "      <td>Xrcc5</td>\n",
       "      <td>False</td>\n",
       "    </tr>\n",
       "    <tr>\n",
       "      <th>5</th>\n",
       "      <td>H2ax</td>\n",
       "      <td>False</td>\n",
       "    </tr>\n",
       "  </tbody>\n",
       "</table>\n",
       "</div>"
      ],
      "text/plain": [
       "       Gene Pseudo-control\n",
       "1  Atp6v1g1          False\n",
       "2    H2ac18          False\n",
       "3    Metap2          False\n",
       "4     Xrcc5          False\n",
       "5      H2ax          False"
      ]
     },
     "execution_count": 3,
     "metadata": {},
     "output_type": "execute_result"
    }
   ],
   "source": [
    "final_genes = pd.read_csv(\"../outlier_detection/artifacts/final_gene_list.tsv\", sep=\"\\t\", usecols=[0, 6], skiprows=1)[1:].rename(columns={\"Measure\": \"Gene\"})\n",
    "final_genes.head()"
   ]
  },
  {
   "cell_type": "code",
   "execution_count": 4,
   "metadata": {},
   "outputs": [],
   "source": [
    "hussmann_repair_genes = pd.read_excel(get_hussmann_supplementary_xlsx(4), sheet_name=\"Table S4\", skiprows=1)[\"Gene\"].str.lower().str.capitalize()"
   ]
  },
  {
   "cell_type": "code",
   "execution_count": 5,
   "metadata": {},
   "outputs": [
    {
     "data": {
      "text/plain": [
       "1      Atp6v1g1\n",
       "2        H2ac18\n",
       "3        Metap2\n",
       "4         Xrcc5\n",
       "5          H2ax\n",
       "         ...   \n",
       "396        Smc3\n",
       "397       Brca1\n",
       "398       Sec13\n",
       "399        Bop1\n",
       "400     Gm10024\n",
       "Name: Gene, Length: 400, dtype: object"
      ]
     },
     "execution_count": 5,
     "metadata": {},
     "output_type": "execute_result"
    }
   ],
   "source": [
    "top_genes = final_genes[\"Gene\"].iloc[:TOP_GENES_LIMIT]\n",
    "top_genes"
   ]
  },
  {
   "cell_type": "code",
   "execution_count": 6,
   "metadata": {},
   "outputs": [],
   "source": [
    "# top_hits = reduce(np.union1d, (top_genes, HR_GENE_SET, NHEJ_GENE_SET, FANCONI_ANEMIA_GENE_SET, POLQ))\n",
    "# len(top_hits)"
   ]
  },
  {
   "cell_type": "code",
   "execution_count": 7,
   "metadata": {},
   "outputs": [
    {
     "data": {
      "text/html": [
       "<div>\n",
       "<style scoped>\n",
       "    .dataframe tbody tr th:only-of-type {\n",
       "        vertical-align: middle;\n",
       "    }\n",
       "\n",
       "    .dataframe tbody tr th {\n",
       "        vertical-align: top;\n",
       "    }\n",
       "\n",
       "    .dataframe thead th {\n",
       "        text-align: right;\n",
       "    }\n",
       "</style>\n",
       "<table border=\"1\" class=\"dataframe\">\n",
       "  <thead>\n",
       "    <tr style=\"text-align: right;\">\n",
       "      <th></th>\n",
       "      <th>Target</th>\n",
       "      <th>Alias</th>\n",
       "      <th>Gene</th>\n",
       "      <th>Barcode</th>\n",
       "      <th>Filtered</th>\n",
       "      <th>Counts</th>\n",
       "      <th>Corr_Within</th>\n",
       "      <th>Corr_Between</th>\n",
       "    </tr>\n",
       "  </thead>\n",
       "  <tbody>\n",
       "    <tr>\n",
       "      <th>0</th>\n",
       "      <td>T1</td>\n",
       "      <td>MB01</td>\n",
       "      <td>0610009B22Rik</td>\n",
       "      <td>0610009B22Rik-1</td>\n",
       "      <td>0</td>\n",
       "      <td>2247.0</td>\n",
       "      <td>0.802124</td>\n",
       "      <td>0.719819</td>\n",
       "    </tr>\n",
       "    <tr>\n",
       "      <th>1</th>\n",
       "      <td>T1</td>\n",
       "      <td>MB01</td>\n",
       "      <td>0610009B22Rik</td>\n",
       "      <td>0610009B22Rik-2</td>\n",
       "      <td>0</td>\n",
       "      <td>2792.0</td>\n",
       "      <td>0.861144</td>\n",
       "      <td>0.841499</td>\n",
       "    </tr>\n",
       "    <tr>\n",
       "      <th>2</th>\n",
       "      <td>T1</td>\n",
       "      <td>MB01</td>\n",
       "      <td>0610009B22Rik</td>\n",
       "      <td>0610009B22Rik-3</td>\n",
       "      <td>0</td>\n",
       "      <td>3907.0</td>\n",
       "      <td>0.894923</td>\n",
       "      <td>0.900597</td>\n",
       "    </tr>\n",
       "    <tr>\n",
       "      <th>3</th>\n",
       "      <td>T1</td>\n",
       "      <td>MB01</td>\n",
       "      <td>0610009B22Rik</td>\n",
       "      <td>0610009B22Rik-4</td>\n",
       "      <td>0</td>\n",
       "      <td>3757.0</td>\n",
       "      <td>0.886405</td>\n",
       "      <td>0.779313</td>\n",
       "    </tr>\n",
       "    <tr>\n",
       "      <th>4</th>\n",
       "      <td>T1</td>\n",
       "      <td>MB01</td>\n",
       "      <td>0610009B22Rik</td>\n",
       "      <td>0610009B22Rik-5</td>\n",
       "      <td>0</td>\n",
       "      <td>2549.0</td>\n",
       "      <td>0.920184</td>\n",
       "      <td>0.844981</td>\n",
       "    </tr>\n",
       "  </tbody>\n",
       "</table>\n",
       "</div>"
      ],
      "text/plain": [
       "  Target Alias           Gene          Barcode  Filtered  Counts  Corr_Within  \\\n",
       "0     T1  MB01  0610009B22Rik  0610009B22Rik-1         0  2247.0     0.802124   \n",
       "1     T1  MB01  0610009B22Rik  0610009B22Rik-2         0  2792.0     0.861144   \n",
       "2     T1  MB01  0610009B22Rik  0610009B22Rik-3         0  3907.0     0.894923   \n",
       "3     T1  MB01  0610009B22Rik  0610009B22Rik-4         0  3757.0     0.886405   \n",
       "4     T1  MB01  0610009B22Rik  0610009B22Rik-5         0  2549.0     0.920184   \n",
       "\n",
       "   Corr_Between  \n",
       "0      0.719819  \n",
       "1      0.841499  \n",
       "2      0.900597  \n",
       "3      0.779313  \n",
       "4      0.844981  "
      ]
     },
     "execution_count": 7,
     "metadata": {},
     "output_type": "execute_result"
    }
   ],
   "source": [
    "filtered_barcodes = pd.read_csv(get_common_barcodes(), sep=\"\\t\")\n",
    "filtered_barcodes.head()"
   ]
  },
  {
   "cell_type": "code",
   "execution_count": 8,
   "metadata": {},
   "outputs": [
    {
     "data": {
      "text/html": [
       "<div>\n",
       "<style scoped>\n",
       "    .dataframe tbody tr th:only-of-type {\n",
       "        vertical-align: middle;\n",
       "    }\n",
       "\n",
       "    .dataframe tbody tr th {\n",
       "        vertical-align: top;\n",
       "    }\n",
       "\n",
       "    .dataframe thead th {\n",
       "        text-align: right;\n",
       "    }\n",
       "</style>\n",
       "<table border=\"1\" class=\"dataframe\">\n",
       "  <thead>\n",
       "    <tr style=\"text-align: right;\">\n",
       "      <th></th>\n",
       "      <th>Target</th>\n",
       "      <th>Alias</th>\n",
       "      <th>Gene</th>\n",
       "      <th>Barcode</th>\n",
       "      <th>Filtered</th>\n",
       "      <th>Counts</th>\n",
       "      <th>Corr_Within</th>\n",
       "      <th>Corr_Between</th>\n",
       "    </tr>\n",
       "  </thead>\n",
       "  <tbody>\n",
       "    <tr>\n",
       "      <th>0</th>\n",
       "      <td>T1</td>\n",
       "      <td>MB01</td>\n",
       "      <td>0610009B22Rik</td>\n",
       "      <td>0610009B22Rik-1</td>\n",
       "      <td>0</td>\n",
       "      <td>2247.0</td>\n",
       "      <td>0.802124</td>\n",
       "      <td>0.719819</td>\n",
       "    </tr>\n",
       "    <tr>\n",
       "      <th>1</th>\n",
       "      <td>T1</td>\n",
       "      <td>MB01</td>\n",
       "      <td>0610009B22Rik</td>\n",
       "      <td>0610009B22Rik-2</td>\n",
       "      <td>0</td>\n",
       "      <td>2792.0</td>\n",
       "      <td>0.861144</td>\n",
       "      <td>0.841499</td>\n",
       "    </tr>\n",
       "    <tr>\n",
       "      <th>2</th>\n",
       "      <td>T1</td>\n",
       "      <td>MB01</td>\n",
       "      <td>0610009B22Rik</td>\n",
       "      <td>0610009B22Rik-3</td>\n",
       "      <td>0</td>\n",
       "      <td>3907.0</td>\n",
       "      <td>0.894923</td>\n",
       "      <td>0.900597</td>\n",
       "    </tr>\n",
       "    <tr>\n",
       "      <th>3</th>\n",
       "      <td>T1</td>\n",
       "      <td>MB01</td>\n",
       "      <td>0610009B22Rik</td>\n",
       "      <td>0610009B22Rik-4</td>\n",
       "      <td>0</td>\n",
       "      <td>3757.0</td>\n",
       "      <td>0.886405</td>\n",
       "      <td>0.779313</td>\n",
       "    </tr>\n",
       "    <tr>\n",
       "      <th>4</th>\n",
       "      <td>T1</td>\n",
       "      <td>MB01</td>\n",
       "      <td>0610009B22Rik</td>\n",
       "      <td>0610009B22Rik-5</td>\n",
       "      <td>0</td>\n",
       "      <td>2549.0</td>\n",
       "      <td>0.920184</td>\n",
       "      <td>0.844981</td>\n",
       "    </tr>\n",
       "    <tr>\n",
       "      <th>...</th>\n",
       "      <td>...</td>\n",
       "      <td>...</td>\n",
       "      <td>...</td>\n",
       "      <td>...</td>\n",
       "      <td>...</td>\n",
       "      <td>...</td>\n",
       "      <td>...</td>\n",
       "      <td>...</td>\n",
       "    </tr>\n",
       "    <tr>\n",
       "      <th>536759</th>\n",
       "      <td>T3</td>\n",
       "      <td>MB06</td>\n",
       "      <td>ccdc198</td>\n",
       "      <td>ccdc198-5</td>\n",
       "      <td>0</td>\n",
       "      <td>2585.0</td>\n",
       "      <td>0.957342</td>\n",
       "      <td>0.959532</td>\n",
       "    </tr>\n",
       "    <tr>\n",
       "      <th>536760</th>\n",
       "      <td>T3</td>\n",
       "      <td>MB06</td>\n",
       "      <td>mei-04</td>\n",
       "      <td>Mei4-1</td>\n",
       "      <td>0</td>\n",
       "      <td>3218.0</td>\n",
       "      <td>0.872856</td>\n",
       "      <td>0.888647</td>\n",
       "    </tr>\n",
       "    <tr>\n",
       "      <th>536761</th>\n",
       "      <td>T3</td>\n",
       "      <td>MB06</td>\n",
       "      <td>mei-04</td>\n",
       "      <td>Mei4-2</td>\n",
       "      <td>0</td>\n",
       "      <td>2200.0</td>\n",
       "      <td>0.834222</td>\n",
       "      <td>0.763714</td>\n",
       "    </tr>\n",
       "    <tr>\n",
       "      <th>536762</th>\n",
       "      <td>T3</td>\n",
       "      <td>MB06</td>\n",
       "      <td>mei-04</td>\n",
       "      <td>Mei4-3</td>\n",
       "      <td>0</td>\n",
       "      <td>4083.0</td>\n",
       "      <td>0.821211</td>\n",
       "      <td>0.926477</td>\n",
       "    </tr>\n",
       "    <tr>\n",
       "      <th>536764</th>\n",
       "      <td>T3</td>\n",
       "      <td>MB06</td>\n",
       "      <td>mei-04</td>\n",
       "      <td>Mei4-5</td>\n",
       "      <td>0</td>\n",
       "      <td>981.0</td>\n",
       "      <td>0.872856</td>\n",
       "      <td>0.870400</td>\n",
       "    </tr>\n",
       "  </tbody>\n",
       "</table>\n",
       "<p>441081 rows × 8 columns</p>\n",
       "</div>"
      ],
      "text/plain": [
       "       Target Alias           Gene          Barcode  Filtered  Counts  \\\n",
       "0          T1  MB01  0610009B22Rik  0610009B22Rik-1         0  2247.0   \n",
       "1          T1  MB01  0610009B22Rik  0610009B22Rik-2         0  2792.0   \n",
       "2          T1  MB01  0610009B22Rik  0610009B22Rik-3         0  3907.0   \n",
       "3          T1  MB01  0610009B22Rik  0610009B22Rik-4         0  3757.0   \n",
       "4          T1  MB01  0610009B22Rik  0610009B22Rik-5         0  2549.0   \n",
       "...       ...   ...            ...              ...       ...     ...   \n",
       "536759     T3  MB06        ccdc198        ccdc198-5         0  2585.0   \n",
       "536760     T3  MB06         mei-04           Mei4-1         0  3218.0   \n",
       "536761     T3  MB06         mei-04           Mei4-2         0  2200.0   \n",
       "536762     T3  MB06         mei-04           Mei4-3         0  4083.0   \n",
       "536764     T3  MB06         mei-04           Mei4-5         0   981.0   \n",
       "\n",
       "        Corr_Within  Corr_Between  \n",
       "0          0.802124      0.719819  \n",
       "1          0.861144      0.841499  \n",
       "2          0.894923      0.900597  \n",
       "3          0.886405      0.779313  \n",
       "4          0.920184      0.844981  \n",
       "...             ...           ...  \n",
       "536759     0.957342      0.959532  \n",
       "536760     0.872856      0.888647  \n",
       "536761     0.834222      0.763714  \n",
       "536762     0.821211      0.926477  \n",
       "536764     0.872856      0.870400  \n",
       "\n",
       "[441081 rows x 8 columns]"
      ]
     },
     "execution_count": 8,
     "metadata": {},
     "output_type": "execute_result"
    }
   ],
   "source": [
    "good_barcodes = filtered_barcodes[filtered_barcodes[\"Filtered\"].isin([0, 5])]\n",
    "good_barcodes_any_T = good_barcodes[good_barcodes[\"Target\"].isin([\"T1\", \"T2\", \"T3\"])]\n",
    "good_barcodes_any_T"
   ]
  },
  {
   "cell_type": "code",
   "execution_count": 17,
   "metadata": {},
   "outputs": [
    {
     "name": "stdout",
     "output_type": "stream",
     "text": [
      "Eukaryotic type\n",
      "B  SSBR (single strand breaks repair)\n",
      "B  DSBR (double strand breaks repair)\n",
      "B  TLS (translesion DNA synthesis) factors\n",
      "B  Check point factors\n",
      "B  Other factors with a suspected DNA repair function\n",
      "Prokaryotic type\n",
      "B  SSBR (single strand breaks repair)\n",
      "B  DSBR (double strand breaks repair)\n",
      "B  TLS (translesion DNA synthesis) factors\n",
      "B  Other factors with a suspected DNA repair function\n",
      "There are 278 repair pathway repair_genes in KEGG\n",
      "There is an overlap of 121 Hussmann genes with the KEGG repair genes\n"
     ]
    }
   ],
   "source": [
    "# https://www.genome.jp/brite/mmu03400\n",
    "\n",
    "brite_file = REST.kegg_get(\"br:mmu03400\").read()\n",
    "\n",
    "repair_genes = []\n",
    "current_section = None\n",
    "current_subsection = None\n",
    "\n",
    "subsections_of_interest = [\n",
    "    \"B  DSBR (double strand breaks repair)\",\n",
    "    \"B  Other factors with a suspected DNA repair function\",\n",
    "    \"B  Check point factors\",\n",
    "    \"B  TLS (translesion DNA synthesis) factors\",\n",
    "    # \"B  SSBR (single strand breaks repair)\"\n",
    "]\n",
    "\n",
    "for line in brite_file.rstrip().split(\"\\n\"):\n",
    "    section = line[:1]\n",
    "    if section == \"A\":\n",
    "        current_section = line[1:]\n",
    "        print(current_section)\n",
    "\n",
    "    if section == \"B\":\n",
    "        current_subsection = line\n",
    "        print(current_subsection)\n",
    "    \n",
    "    if current_section ==  \"Eukaryotic type\":\n",
    "        if current_subsection in subsections_of_interest:\n",
    "            if \";\" in line:\n",
    "                repair_genes.append(line.split()[2][:-1])\n",
    "print(\"There are {} repair pathway repair_genes in KEGG\".format(len(repair_genes)))\n",
    "\n",
    "print(\"There is an overlap of {} Hussmann genes with the KEGG repair genes\".format(len(np.intersect1d(repair_genes, hussmann_repair_genes))))"
   ]
  },
  {
   "cell_type": "code",
   "execution_count": 18,
   "metadata": {},
   "outputs": [
    {
     "data": {
      "text/plain": [
       "616"
      ]
     },
     "execution_count": 18,
     "metadata": {},
     "output_type": "execute_result"
    }
   ],
   "source": [
    "top_hits = np.unique(reduce(np.union1d, (top_genes, repair_genes)))\n",
    "len(top_hits)"
   ]
  },
  {
   "cell_type": "code",
   "execution_count": 11,
   "metadata": {},
   "outputs": [
    {
     "data": {
      "text/plain": [
       "(591,)"
      ]
     },
     "execution_count": 11,
     "metadata": {},
     "output_type": "execute_result"
    }
   ],
   "source": [
    "top_hit_barcodes = good_barcodes_any_T[good_barcodes_any_T[\"Gene\"].isin(top_hits)]\n",
    "top_hit_barcode_counts = top_hit_barcodes.groupby([\"Gene\", \"Barcode\"]).size().groupby(\"Gene\").size() \n",
    "top_hit_barcode_counts = top_hit_barcode_counts[top_hit_barcode_counts>=1]\n",
    "top_hit_barcode_counts.shape"
   ]
  },
  {
   "cell_type": "code",
   "execution_count": 12,
   "metadata": {},
   "outputs": [
    {
     "data": {
      "text/plain": [
       "'There is an overlap of 128 Hussmann genes with our top hits'"
      ]
     },
     "execution_count": 12,
     "metadata": {},
     "output_type": "execute_result"
    }
   ],
   "source": [
    "\"There is an overlap of {} Hussmann genes with our top hits\".format(len(np.intersect1d(top_hits, hussmann_repair_genes)))"
   ]
  },
  {
   "cell_type": "code",
   "execution_count": 13,
   "metadata": {},
   "outputs": [
    {
     "data": {
      "text/plain": [
       "1    118\n",
       "2    103\n",
       "3    133\n",
       "4    103\n",
       "5    134\n",
       "dtype: int64"
      ]
     },
     "execution_count": 13,
     "metadata": {},
     "output_type": "execute_result"
    }
   ],
   "source": [
    "top_hit_barcode_counts.value_counts().sort_index()"
   ]
  },
  {
   "attachments": {},
   "cell_type": "markdown",
   "metadata": {},
   "source": [
    "Redo sgRNA filter analysis without read count filter and with read count filter in parallel (can think about this)"
   ]
  },
  {
   "cell_type": "code",
   "execution_count": 14,
   "metadata": {},
   "outputs": [
    {
     "data": {
      "text/plain": [
       "370"
      ]
     },
     "execution_count": 14,
     "metadata": {},
     "output_type": "execute_result"
    }
   ],
   "source": [
    "NUM_GOOD_BARCODES = 3\n",
    "\n",
    "# barcodes that are in T2 and T3 for top hits\n",
    "top_hit_barcodes = good_barcodes_any_T[good_barcodes_any_T[\"Gene\"].isin(top_hits)]\n",
    "\n",
    "# barcodes that are good in any (1) or both (2) replicates\n",
    "top_hit_barcode_counts_per_target = top_hit_barcodes.groupby([\"Gene\", \"Target\", \"Barcode\"]).size()\n",
    "barcodes_good_in_both_replicates = top_hit_barcode_counts_per_target[top_hit_barcode_counts_per_target >= 1]\n",
    "\n",
    "# barcodes that are good in both replicates in X target sites, where X in [1, 2, 3]\n",
    "barcodes_counts_across_both_replicates = barcodes_good_in_both_replicates.groupby([\"Gene\", \"Barcode\"]).size()\n",
    "barcodes_counts_across_both_replicates = barcodes_counts_across_both_replicates[barcodes_counts_across_both_replicates >= 1]\n",
    "barcodes_counts_across_both_replicates\n",
    "\n",
    "# genes that have at least 3 good barcodes\n",
    "(barcodes_counts_across_both_replicates.groupby(\"Gene\").size() >= NUM_GOOD_BARCODES).sum()"
   ]
  },
  {
   "cell_type": "code",
   "execution_count": 15,
   "metadata": {},
   "outputs": [
    {
     "name": "stdout",
     "output_type": "stream",
     "text": [
      "There are 370 genes with at least 3 good barcodes\n",
      "Of that, 212 are known repair genes\n",
      "And 158 are not\n"
     ]
    }
   ],
   "source": [
    "genes_with_X_barcodes = barcodes_counts_across_both_replicates.groupby(\"Gene\").size() >= NUM_GOOD_BARCODES\n",
    "genes_with_X_barcodes = genes_with_X_barcodes[genes_with_X_barcodes].index.to_list()\n",
    "print(\"There are {} genes with at least {} good barcodes\".format(len(genes_with_X_barcodes), NUM_GOOD_BARCODES))\n",
    "\n",
    "repair_genes_with_X_barcodes = np.intersect1d(genes_with_X_barcodes, repair_genes)\n",
    "print(\"Of that, {} are known repair genes\".format(len(repair_genes_with_X_barcodes)))\n",
    "\n",
    "print(\"And {} are not\".format(len(genes_with_X_barcodes) - len(repair_genes_with_X_barcodes)))"
   ]
  }
 ],
 "metadata": {
  "kernelspec": {
   "display_name": "MUSICian",
   "language": "python",
   "name": "python3"
  },
  "language_info": {
   "codemirror_mode": {
    "name": "ipython",
    "version": 3
   },
   "file_extension": ".py",
   "mimetype": "text/x-python",
   "name": "python",
   "nbconvert_exporter": "python",
   "pygments_lexer": "ipython3",
   "version": "3.9.13"
  },
  "orig_nbformat": 4
 },
 "nbformat": 4,
 "nbformat_minor": 2
}
