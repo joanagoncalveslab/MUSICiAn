{
 "cells": [
  {
   "cell_type": "code",
   "execution_count": 672,
   "metadata": {},
   "outputs": [
    {
     "name": "stdout",
     "output_type": "stream",
     "text": [
      "The autoreload extension is already loaded. To reload it, use:\n",
      "  %reload_ext autoreload\n"
     ]
    }
   ],
   "source": [
    "# OPTIONAL: Load the \"autoreload\" eX_orig[alias]tension so that code can change\n",
    "%load_ext autoreload\n",
    "\n",
    "# OPTIONAL: always reload modules so that as you change code in src, it gets loaded\n",
    "%autoreload 2\n",
    "\n",
    "%matplotlib inline"
   ]
  },
  {
   "cell_type": "code",
   "execution_count": 673,
   "metadata": {},
   "outputs": [],
   "source": [
    "# Import Biopython modules to interact with KEGG\n",
    "from Bio import SeqIO\n",
    "from Bio.KEGG import REST\n",
    "from Bio.KEGG.KGML import KGML_parser\n",
    "from Bio.Graphics.KGML_vis import KGMLCanvas\n",
    "\n",
    "import pandas as pd\n",
    "import numpy as np\n",
    "from functools import reduce\n",
    "\n",
    "from src.visualization.plots import HR_GENE_SET, NHEJ_GENE_SET, FANCONI_ANEMIA_GENE_SET\n",
    "from src.config import get_common_barcodes, HOME_PATH, get_hussmann_supplementary_xlsx, get_experiment_artifacts\n",
    "\n",
    "\n",
    "MIN_RANKED_DSB_GENE = 3000\n",
    "T = \"isGODSBRepair\"\n",
    "\n",
    "if T == \"isGORepair\":\n",
    "    MIN_RANKED_DSB_GENE = 3000\n",
    "    NUM_PROMISING_GENES = 430\n",
    "else:\n",
    "    MIN_RANKED_DSB_GENE = 13000\n",
    "    NUM_PROMISING_GENES = 408"
   ]
  },
  {
   "cell_type": "code",
   "execution_count": 674,
   "metadata": {},
   "outputs": [
    {
     "data": {
      "text/html": [
       "<div>\n",
       "<style scoped>\n",
       "    .dataframe tbody tr th:only-of-type {\n",
       "        vertical-align: middle;\n",
       "    }\n",
       "\n",
       "    .dataframe tbody tr th {\n",
       "        vertical-align: top;\n",
       "    }\n",
       "\n",
       "    .dataframe thead th {\n",
       "        text-align: right;\n",
       "    }\n",
       "</style>\n",
       "<table border=\"1\" class=\"dataframe\">\n",
       "  <thead>\n",
       "    <tr style=\"text-align: right;\">\n",
       "      <th></th>\n",
       "      <th>Gene</th>\n",
       "      <th>Rank</th>\n",
       "      <th>Pseudo-control</th>\n",
       "    </tr>\n",
       "  </thead>\n",
       "  <tbody>\n",
       "    <tr>\n",
       "      <th>1</th>\n",
       "      <td>Atp6v1g1</td>\n",
       "      <td>1.0</td>\n",
       "      <td>False</td>\n",
       "    </tr>\n",
       "    <tr>\n",
       "      <th>2</th>\n",
       "      <td>H2ac18</td>\n",
       "      <td>2.0</td>\n",
       "      <td>False</td>\n",
       "    </tr>\n",
       "    <tr>\n",
       "      <th>3</th>\n",
       "      <td>Metap2</td>\n",
       "      <td>3.0</td>\n",
       "      <td>False</td>\n",
       "    </tr>\n",
       "    <tr>\n",
       "      <th>4</th>\n",
       "      <td>Xrcc5</td>\n",
       "      <td>4.0</td>\n",
       "      <td>False</td>\n",
       "    </tr>\n",
       "    <tr>\n",
       "      <th>5</th>\n",
       "      <td>H2ax</td>\n",
       "      <td>5.0</td>\n",
       "      <td>False</td>\n",
       "    </tr>\n",
       "  </tbody>\n",
       "</table>\n",
       "</div>"
      ],
      "text/plain": [
       "       Gene  Rank Pseudo-control\n",
       "1  Atp6v1g1   1.0          False\n",
       "2    H2ac18   2.0          False\n",
       "3    Metap2   3.0          False\n",
       "4     Xrcc5   4.0          False\n",
       "5      H2ax   5.0          False"
      ]
     },
     "execution_count": 674,
     "metadata": {},
     "output_type": "execute_result"
    }
   ],
   "source": [
    "final_genes = pd.read_csv(\"../outlier_detection/artifacts/final_gene_list.tsv\", sep=\"\\t\", usecols=[0, 5, 6], skiprows=1)[1:].rename(columns={\"Measure\": \"Gene\"})\n",
    "final_genes.head()"
   ]
  },
  {
   "cell_type": "code",
   "execution_count": 675,
   "metadata": {},
   "outputs": [
    {
     "data": {
      "text/plain": [
       "'/Users/colm/repos/MUSICian/notebooks/exploratory/outlier_detection/artifacts/paired-replicates.robust_cov.700//augmented_with_GO_outlier_results.pkl'"
      ]
     },
     "execution_count": 675,
     "metadata": {},
     "output_type": "execute_result"
    }
   ],
   "source": [
    "results_f = get_experiment_artifacts() + \"/augmented_with_GO_outlier_results.pkl\"\n",
    "full_results_df = pd.read_pickle(results_f)\n",
    "results_f"
   ]
  },
  {
   "cell_type": "code",
   "execution_count": 676,
   "metadata": {},
   "outputs": [],
   "source": [
    "final_genes = final_genes.set_index(\"Gene\").join(full_results_df[[(\"Global\", T)]].droplevel(axis=1, level=0))"
   ]
  },
  {
   "cell_type": "code",
   "execution_count": 677,
   "metadata": {},
   "outputs": [
    {
     "data": {
      "text/plain": [
       "(408,)"
      ]
     },
     "execution_count": 677,
     "metadata": {},
     "output_type": "execute_result"
    }
   ],
   "source": [
    "nonGODSBRepair = final_genes[~final_genes[T]]\n",
    "listA = nonGODSBRepair[:NUM_PROMISING_GENES].index.to_series()\n",
    "listA.shape"
   ]
  },
  {
   "cell_type": "code",
   "execution_count": 678,
   "metadata": {},
   "outputs": [
    {
     "data": {
      "text/plain": [
       "(254,)"
      ]
     },
     "execution_count": 678,
     "metadata": {},
     "output_type": "execute_result"
    }
   ],
   "source": [
    "GODSBRepair = final_genes[final_genes[T]]\n",
    "listB = GODSBRepair[GODSBRepair[\"Rank\"] < MIN_RANKED_DSB_GENE].index.to_series()\n",
    "listB.shape"
   ]
  },
  {
   "cell_type": "code",
   "execution_count": 679,
   "metadata": {},
   "outputs": [
    {
     "data": {
      "text/plain": [
       "476"
      ]
     },
     "execution_count": 679,
     "metadata": {},
     "output_type": "execute_result"
    }
   ],
   "source": [
    "all_hussmann_repair_genes = pd.read_excel(get_hussmann_supplementary_xlsx(4), sheet_name=\"Table S4\", skiprows=1)\n",
    "all_hussmann_repair_genes = all_hussmann_repair_genes[\"Gene\"].str.lower().str.capitalize().dropna()\n",
    "all_hussmann_repair_genes.shape[0]"
   ]
  },
  {
   "cell_type": "code",
   "execution_count": 680,
   "metadata": {},
   "outputs": [
    {
     "data": {
      "text/html": [
       "<div>\n",
       "<style scoped>\n",
       "    .dataframe tbody tr th:only-of-type {\n",
       "        vertical-align: middle;\n",
       "    }\n",
       "\n",
       "    .dataframe tbody tr th {\n",
       "        vertical-align: top;\n",
       "    }\n",
       "\n",
       "    .dataframe thead th {\n",
       "        text-align: right;\n",
       "    }\n",
       "</style>\n",
       "<table border=\"1\" class=\"dataframe\">\n",
       "  <thead>\n",
       "    <tr style=\"text-align: right;\">\n",
       "      <th></th>\n",
       "      <th>Rank</th>\n",
       "      <th>Pseudo-control</th>\n",
       "      <th>isGODSBRepair</th>\n",
       "    </tr>\n",
       "    <tr>\n",
       "      <th>Gene</th>\n",
       "      <th></th>\n",
       "      <th></th>\n",
       "      <th></th>\n",
       "    </tr>\n",
       "  </thead>\n",
       "  <tbody>\n",
       "    <tr>\n",
       "      <th>Aptx</th>\n",
       "      <td>3648.0</td>\n",
       "      <td>False</td>\n",
       "      <td>True</td>\n",
       "    </tr>\n",
       "    <tr>\n",
       "      <th>Ascc3</th>\n",
       "      <td>5404.0</td>\n",
       "      <td>False</td>\n",
       "      <td>False</td>\n",
       "    </tr>\n",
       "    <tr>\n",
       "      <th>Atm</th>\n",
       "      <td>247.0</td>\n",
       "      <td>False</td>\n",
       "      <td>True</td>\n",
       "    </tr>\n",
       "    <tr>\n",
       "      <th>Atr</th>\n",
       "      <td>6777.0</td>\n",
       "      <td>False</td>\n",
       "      <td>True</td>\n",
       "    </tr>\n",
       "    <tr>\n",
       "      <th>Atrip</th>\n",
       "      <td>1958.0</td>\n",
       "      <td>False</td>\n",
       "      <td>False</td>\n",
       "    </tr>\n",
       "    <tr>\n",
       "      <th>...</th>\n",
       "      <td>...</td>\n",
       "      <td>...</td>\n",
       "      <td>...</td>\n",
       "    </tr>\n",
       "    <tr>\n",
       "      <th>Sem1</th>\n",
       "      <td>112.0</td>\n",
       "      <td>False</td>\n",
       "      <td>True</td>\n",
       "    </tr>\n",
       "    <tr>\n",
       "      <th>H2ax</th>\n",
       "      <td>5.0</td>\n",
       "      <td>False</td>\n",
       "      <td>True</td>\n",
       "    </tr>\n",
       "    <tr>\n",
       "      <th>Abraxas1</th>\n",
       "      <td>1666.0</td>\n",
       "      <td>False</td>\n",
       "      <td>True</td>\n",
       "    </tr>\n",
       "    <tr>\n",
       "      <th>Faap24</th>\n",
       "      <td>6317.0</td>\n",
       "      <td>False</td>\n",
       "      <td>True</td>\n",
       "    </tr>\n",
       "    <tr>\n",
       "      <th>Trp53bp1</th>\n",
       "      <td>404.0</td>\n",
       "      <td>False</td>\n",
       "      <td>True</td>\n",
       "    </tr>\n",
       "  </tbody>\n",
       "</table>\n",
       "<p>113 rows × 3 columns</p>\n",
       "</div>"
      ],
      "text/plain": [
       "            Rank Pseudo-control  isGODSBRepair\n",
       "Gene                                          \n",
       "Aptx      3648.0          False           True\n",
       "Ascc3     5404.0          False          False\n",
       "Atm        247.0          False           True\n",
       "Atr       6777.0          False           True\n",
       "Atrip     1958.0          False          False\n",
       "...          ...            ...            ...\n",
       "Sem1       112.0          False           True\n",
       "H2ax         5.0          False           True\n",
       "Abraxas1  1666.0          False           True\n",
       "Faap24    6317.0          False           True\n",
       "Trp53bp1   404.0          False           True\n",
       "\n",
       "[113 rows x 3 columns]"
      ]
     },
     "execution_count": 680,
     "metadata": {},
     "output_type": "execute_result"
    }
   ],
   "source": [
    "hussmann_repair_genes = pd.read_excel(get_hussmann_supplementary_xlsx(4), sheet_name=\"Table S4\", skiprows=1)\n",
    "hussmann_repair_genes = hussmann_repair_genes[\"Gene.1\"].str.lower().str.capitalize().dropna()\n",
    "most_active_hussmann_genes = np.intersect1d(hussmann_repair_genes, final_genes.index)\n",
    "missing_hussmann_genes = list(set(hussmann_repair_genes) - set(most_active_hussmann_genes))\n",
    "most_active_hussmann_genes = final_genes.loc[list(np.intersect1d(final_genes.index, most_active_hussmann_genes))+ [\"Wapl\", \"Sem1\", \"H2ax\", \"Abraxas1\", \"Faap24\", \"Trp53bp1\"]]\n",
    "most_active_hussmann_genes"
   ]
  },
  {
   "cell_type": "code",
   "execution_count": 681,
   "metadata": {},
   "outputs": [
    {
     "name": "stdout",
     "output_type": "stream",
     "text": [
      "DTL, C19ORF40, FAM175A, WAPAL, SHFM1, SSBP1, TP53BP1, DUT, NHEJ1, H2AFX, FANCE\n"
     ]
    }
   ],
   "source": [
    "print(\", \".join(missing_hussmann_genes).upper())"
   ]
  },
  {
   "attachments": {},
   "cell_type": "markdown",
   "metadata": {},
   "source": [
    "- Could not find another name for \"NHEJ1\" that was in our list. See Xlf and cernunnos\n",
    "- Could not find another name for \"FANCE\". Also tried Face\n",
    "----------\n",
    "- \"WAPAL\" should be Wapl\n",
    "- \"SHFM1\" should be Sem1\n",
    "- \"H2AFX\" shuld be H2ax\n",
    "- \"FAM175A\" should be Abraxas1\n",
    "- \"C19ORF40\" should be Faap24\n",
    "- \"TP53BP1\" should be Trp53bp1\n",
    "----------\n",
    "- \"Dut\" sgRNAs were filtered out at the QA stage.\n",
    "- \"Ssbp1\" filtered out at QA stage\n",
    "- \"DTL\" filtered out at QA stage"
   ]
  },
  {
   "cell_type": "code",
   "execution_count": 682,
   "metadata": {},
   "outputs": [
    {
     "data": {
      "text/plain": [
       "(114,)"
      ]
     },
     "execution_count": 682,
     "metadata": {},
     "output_type": "execute_result"
    }
   ],
   "source": [
    "listC = np.unique(pd.Series(most_active_hussmann_genes[most_active_hussmann_genes[\"Rank\"] < MIN_RANKED_DSB_GENE].index.to_list() + [\"Dut\", \"Ssbp1\", \"Dtl\"]))\n",
    "listC.shape"
   ]
  },
  {
   "cell_type": "code",
   "execution_count": 683,
   "metadata": {},
   "outputs": [
    {
     "data": {
      "text/plain": [
       "(701,)"
      ]
     },
     "execution_count": 683,
     "metadata": {},
     "output_type": "execute_result"
    }
   ],
   "source": [
    "from functools import reduce\n",
    "\n",
    "candidates = reduce(np.union1d, (listA, listB, listC))\n",
    "candidates.shape"
   ]
  },
  {
   "cell_type": "code",
   "execution_count": 684,
   "metadata": {},
   "outputs": [
    {
     "data": {
      "image/png": "[encoded data removed]",
      "text/plain": [
       "<Figure size 640x480 with 1 Axes>"
      ]
     },
     "metadata": {},
     "output_type": "display_data"
    }
   ],
   "source": [
    "import matplotlib.pyplot as plt\n",
    "from matplotlib_venn import venn3\n",
    "\n",
    "vd = venn3([set(listA), set(listB), set(listC)], [\"Not Annotated as DSB repair\", \"Annontated as DSB repair ({}/{})\".format(len(listB), GODSBRepair.shape[0]), \"Hussmann et al. 2021 ({}/{})\".format(len(listC), most_active_hussmann_genes.shape[0] + 3)])\n",
    "\n",
    "txt=\"Total number of genes: {}\\nRatio of annotated vs not {}/{}\".format(candidates.shape[0], candidates.shape[0]-len(listA), len(listA))\n",
    "plt.figtext(0.5, 0.01, txt, wrap=True, horizontalalignment='center', fontsize=10)\n",
    "\n",
    "lbl = vd.get_label_by_id(\"C\")\n",
    "x, y = lbl.get_position()\n",
    "lbl.set_position((x-0.1, y+0.4))\n",
    "\n",
    "plt.show()"
   ]
  },
  {
   "cell_type": "code",
   "execution_count": 685,
   "metadata": {},
   "outputs": [
    {
     "name": "stdout",
     "output_type": "stream",
     "text": [
      "isGORepair\n",
      "False         376\n",
      "True           32\n",
      "dtype: int64\n"
     ]
    },
    {
     "data": {
      "text/plain": [
       "Text(0.5, 1.0, \"Annotated as ''repair'' in GO\")"
      ]
     },
     "execution_count": 685,
     "metadata": {},
     "output_type": "execute_result"
    },
    {
     "data": {
      "image/png": "[encoded data removed]",
      "text/plain": [
       "<Figure size 640x480 with 1 Axes>"
      ]
     },
     "metadata": {},
     "output_type": "display_data"
    }
   ],
   "source": [
    "\n",
    "pie_df = full_results_df[[(\"Global\", \"isGORepair\")]].droplevel(axis=1, level=0).loc[listA].value_counts()\n",
    "print(pie_df)\n",
    "pie_df.plot.pie(labels=[\"No ({})\".format(pie_df.iloc[0]), \"Yes ({})\".format(pie_df.iloc[1])])\n",
    "\n",
    "plt.title(\"Annotated as ''repair'' in GO\")\n",
    "\n"
   ]
  },
  {
   "cell_type": "code",
   "execution_count": 686,
   "metadata": {},
   "outputs": [
    {
     "data": {
      "text/plain": [
       "Text(0.5, 1.0, 'In Hussmann et al 2021')"
      ]
     },
     "execution_count": 686,
     "metadata": {},
     "output_type": "execute_result"
    },
    {
     "data": {
      "image/png": "[encoded data removed]",
      "text/plain": [
       "<Figure size 640x480 with 1 Axes>"
      ]
     },
     "metadata": {},
     "output_type": "display_data"
    }
   ],
   "source": [
    "pie_df = full_results_df[[(\"Global\", \"isGORepair\")]].droplevel(axis=1, level=0).loc[listA].index.to_series().isin(all_hussmann_repair_genes).value_counts()\n",
    "\n",
    "pie_df.plot.pie(labels=[\"No ({})\".format(pie_df.iloc[0]), \"Yes ({})\".format(pie_df.iloc[1])])\n",
    "\n",
    "plt.title(\"In Hussmann et al 2021\")"
   ]
  },
  {
   "cell_type": "code",
   "execution_count": 695,
   "metadata": {},
   "outputs": [
    {
     "data": {
      "text/plain": [
       "Text(0.5, 1.0, 'Histogram of ranks of Hussmann gene set')"
      ]
     },
     "execution_count": 695,
     "metadata": {},
     "output_type": "execute_result"
    },
    {
     "data": {
      "image/png": "[encoded data removed]",
      "text/plain": [
       "<Figure size 640x480 with 1 Axes>"
      ]
     },
     "metadata": {},
     "output_type": "display_data"
    }
   ],
   "source": [
    "final_genes.loc[np.intersect1d(listC, final_genes.index), \"Rank\"].plot.hist()\n",
    "plt.title(\"Histogram of ranks of Hussmann gene set\")"
   ]
  },
  {
   "cell_type": "code",
   "execution_count": null,
   "metadata": {},
   "outputs": [
    {
     "data": {
      "text/plain": [
       "701"
      ]
     },
     "execution_count": 651,
     "metadata": {},
     "output_type": "execute_result"
    }
   ],
   "source": [
    "candidates.shape[0]"
   ]
  },
  {
   "cell_type": "code",
   "execution_count": null,
   "metadata": {},
   "outputs": [],
   "source": [
    "np.savetxt(\"artifacts/candidates.txt\", candidates, delimiter=\",\", fmt='%s')"
   ]
  },
  {
   "cell_type": "code",
   "execution_count": null,
   "metadata": {},
   "outputs": [],
   "source": [
    "from src.visualization.plots import HR_GENE_SET, FANCONI_ANEMIA_GENE_SET, NHEJ_GENE_SET"
   ]
  },
  {
   "cell_type": "code",
   "execution_count": null,
   "metadata": {},
   "outputs": [],
   "source": [
    "def print_details(pathway):\n",
    "    print(\"included\")\n",
    "    included_list = list(np.intersect1d(pathway, candidates))\n",
    "    print(\" \".join(included_list))\n",
    "    print(len(included_list))\n",
    "\n",
    "    print(\"excluded\")\n",
    "    excluded_list = list(set(pathway) - set(candidates))\n",
    "    print(\" \".join(excluded_list))\n",
    "    print(len(excluded_list))"
   ]
  },
  {
   "cell_type": "code",
   "execution_count": null,
   "metadata": {},
   "outputs": [
    {
     "name": "stdout",
     "output_type": "stream",
     "text": [
      "included\n",
      "Abraxas1 Atm Babam1 Babam2 Bard1 Blm Brca1 Brca2 Brcc3 Mre11a Nbn Palb2 Pold1 Pold2 Pold3 Rad50 Rad51 Rad51b Rad51c Rad51d Rad52 Rad54b Rad54l Rbbp8 Rpa1 Rpa2 Rpa3 Sem1 Ssbp1 Top3a Topbp1 Uimc1 Xrcc2 Xrcc3\n",
      "34\n",
      "excluded\n",
      "Sycp3 Pold4 Eme1 Mus81 Brip1 Top3b Brcc3dc\n",
      "7\n"
     ]
    }
   ],
   "source": [
    "print_details(HR_GENE_SET)"
   ]
  },
  {
   "cell_type": "code",
   "execution_count": null,
   "metadata": {},
   "outputs": [
    {
     "name": "stdout",
     "output_type": "stream",
     "text": [
      "included\n",
      "Atr Atrip Blm Brca1 Brca2 Cenpx Eme2 Ercc1 Ercc4 Faap100 Faap24 Fan1 Fanca Fancb Fancc Fancd2 Fancf Fancg Fanci Fancl Fancm Mlh1 Palb2 Pms2 Poln Rad51 Rad51c Rev3l Rmi1 Rmi2 Rpa1 Rpa2 Rpa3 Slx1b Slx4 Telo2 Top3a Ube2t Usp1 Wdr48\n",
      "40\n",
      "excluded\n",
      "Polh Cenps Eme1 Mus81 Polk Hes1 Rev1 Brip1 Top3b Poli Fance\n",
      "11\n"
     ]
    }
   ],
   "source": [
    "print_details(FANCONI_ANEMIA_GENE_SET)"
   ]
  },
  {
   "cell_type": "code",
   "execution_count": null,
   "metadata": {},
   "outputs": [
    {
     "name": "stdout",
     "output_type": "stream",
     "text": [
      "included\n",
      "Dclre1c Dntt Lig4 Mre11a Poll Polm Prkdc Rad50 Xrcc4 Xrcc5 Xrcc6\n",
      "11\n",
      "excluded\n",
      "Fen1 Nhej1\n",
      "2\n"
     ]
    }
   ],
   "source": [
    "print_details(NHEJ_GENE_SET)"
   ]
  },
  {
   "cell_type": "code",
   "execution_count": null,
   "metadata": {},
   "outputs": [
    {
     "data": {
      "text/html": [
       "<div>\n",
       "<style scoped>\n",
       "    .dataframe tbody tr th:only-of-type {\n",
       "        vertical-align: middle;\n",
       "    }\n",
       "\n",
       "    .dataframe tbody tr th {\n",
       "        vertical-align: top;\n",
       "    }\n",
       "\n",
       "    .dataframe thead th {\n",
       "        text-align: right;\n",
       "    }\n",
       "</style>\n",
       "<table border=\"1\" class=\"dataframe\">\n",
       "  <thead>\n",
       "    <tr style=\"text-align: right;\">\n",
       "      <th></th>\n",
       "      <th>Rank</th>\n",
       "      <th>Pseudo-control</th>\n",
       "      <th>isGODSBRepair</th>\n",
       "    </tr>\n",
       "    <tr>\n",
       "      <th>Gene</th>\n",
       "      <th></th>\n",
       "      <th></th>\n",
       "      <th></th>\n",
       "    </tr>\n",
       "  </thead>\n",
       "  <tbody>\n",
       "    <tr>\n",
       "      <th>Brca2</th>\n",
       "      <td>4305.0</td>\n",
       "      <td>False</td>\n",
       "      <td>True</td>\n",
       "    </tr>\n",
       "    <tr>\n",
       "      <th>Pold4</th>\n",
       "      <td>9029.0</td>\n",
       "      <td>False</td>\n",
       "      <td>False</td>\n",
       "    </tr>\n",
       "    <tr>\n",
       "      <th>Polh</th>\n",
       "      <td>3032.0</td>\n",
       "      <td>False</td>\n",
       "      <td>False</td>\n",
       "    </tr>\n",
       "    <tr>\n",
       "      <th>Poli</th>\n",
       "      <td>2095.0</td>\n",
       "      <td>False</td>\n",
       "      <td>False</td>\n",
       "    </tr>\n",
       "    <tr>\n",
       "      <th>Polk</th>\n",
       "      <td>4691.0</td>\n",
       "      <td>False</td>\n",
       "      <td>False</td>\n",
       "    </tr>\n",
       "    <tr>\n",
       "      <th>Poln</th>\n",
       "      <td>5750.0</td>\n",
       "      <td>False</td>\n",
       "      <td>True</td>\n",
       "    </tr>\n",
       "    <tr>\n",
       "      <th>Prkdc</th>\n",
       "      <td>1065.0</td>\n",
       "      <td>False</td>\n",
       "      <td>True</td>\n",
       "    </tr>\n",
       "    <tr>\n",
       "      <th>Rpa1</th>\n",
       "      <td>2832.0</td>\n",
       "      <td>False</td>\n",
       "      <td>True</td>\n",
       "    </tr>\n",
       "  </tbody>\n",
       "</table>\n",
       "</div>"
      ],
      "text/plain": [
       "         Rank Pseudo-control  isGODSBRepair\n",
       "Gene                                       \n",
       "Brca2  4305.0          False           True\n",
       "Pold4  9029.0          False          False\n",
       "Polh   3032.0          False          False\n",
       "Poli   2095.0          False          False\n",
       "Polk   4691.0          False          False\n",
       "Poln   5750.0          False           True\n",
       "Prkdc  1065.0          False           True\n",
       "Rpa1   2832.0          False           True"
      ]
     },
     "execution_count": 658,
     "metadata": {},
     "output_type": "execute_result"
    }
   ],
   "source": [
    "other_potential_genes_of_interest = [\n",
    "    \"Polk\",\n",
    "    \"Poli\",\n",
    "    \"Polh\",\n",
    "    \"Poln\",\n",
    "    \"Prkdc\",\n",
    "    \"Pold4\",\n",
    "    \"Brca2\",\n",
    "    \"Rpa1\",\n",
    "]\n",
    "\n",
    "final_genes.loc[other_potential_genes_of_interest].sort_index()"
   ]
  }
 ],
 "metadata": {
  "kernelspec": {
   "display_name": "MUSICian",
   "language": "python",
   "name": "python3"
  },
  "language_info": {
   "codemirror_mode": {
    "name": "ipython",
    "version": 3
   },
   "file_extension": ".py",
   "mimetype": "text/x-python",
   "name": "python",
   "nbconvert_exporter": "python",
   "pygments_lexer": "ipython3",
   "version": "3.9.13"
  },
  "orig_nbformat": 4
 },
 "nbformat": 4,
 "nbformat_minor": 2
}
