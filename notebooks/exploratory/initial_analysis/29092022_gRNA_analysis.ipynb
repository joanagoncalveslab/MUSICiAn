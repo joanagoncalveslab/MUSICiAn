{
 "cells": [
  {
   "cell_type": "markdown",
   "metadata": {},
   "source": [
    "# Knockout gRNA Analysis\n",
    "\n",
    "As part of our dataset, we have roughly 80000 gRNAs targetting approximately 18000 genes. On average, thats about 5 gRNAs per gene. We also filter these guide-RNAs by the number of mutagenic reads in order to improve the quality of the profiles. However, some of those gRNAs may not be as efficient as other gRNAs for a single gene, producing different repair outcome profiles which may be \"noisy\" when compared to others. We should decide on a mechanism to filter out those guide RNAs.\n",
    "\n",
    "\n",
    "Analysis Plan\n",
    " - How many mutagenic reads does each gRNA have? What is the range? (Histograms and boxplots)\n",
    " - How many gRNAs does each gene have? (Histogram)\n",
    " - Can we say anything about the quality of the clustering? (Silhouette score, intra-cluster distance)\n",
    " - In order to say anything about the quality of the clustering, we need to decide what outcomes will be kept for analysis\n",
    " - How is the quality of the clustering impacted by raising the threshold on the number of genes?\n",
    " - How do we identify and filter out problematic gRNAs? (Grubbs)\n",
    " - After filtering, how many gRNAs does each gene have? (histogram)\n",
    " - How do we handle genes with 1 or 2 gRNAs? Should we have a limit?\n",
    " - How is the quality of clustering of gene profiles affected by removing problematics gRNAs? (boxplots)"
   ]
  },
  {
   "cell_type": "code",
   "execution_count": 1,
   "metadata": {},
   "outputs": [
    {
     "name": "stdout",
     "output_type": "stream",
     "text": [
      "loaded outcomes\n"
     ]
    },
    {
     "data": {
      "text/html": [
       "<div>\n",
       "<style scoped>\n",
       "    .dataframe tbody tr th:only-of-type {\n",
       "        vertical-align: middle;\n",
       "    }\n",
       "\n",
       "    .dataframe tbody tr th {\n",
       "        vertical-align: top;\n",
       "    }\n",
       "\n",
       "    .dataframe thead th {\n",
       "        text-align: right;\n",
       "    }\n",
       "</style>\n",
       "<table border=\"1\" class=\"dataframe\">\n",
       "  <thead>\n",
       "    <tr style=\"text-align: right;\">\n",
       "      <th></th>\n",
       "      <th></th>\n",
       "      <th></th>\n",
       "      <th></th>\n",
       "      <th>fraction_per_barcode</th>\n",
       "      <th>mutEvents</th>\n",
       "      <th>countEvents</th>\n",
       "    </tr>\n",
       "    <tr>\n",
       "      <th>Alias</th>\n",
       "      <th>Gene</th>\n",
       "      <th>Barcode</th>\n",
       "      <th>outcome</th>\n",
       "      <th></th>\n",
       "      <th></th>\n",
       "      <th></th>\n",
       "    </tr>\n",
       "  </thead>\n",
       "  <tbody>\n",
       "    <tr>\n",
       "      <th rowspan=\"2\" valign=\"top\">MB01</th>\n",
       "      <th rowspan=\"2\" valign=\"top\">0610009B22Rik</th>\n",
       "      <th>0610009B22Rik-5</th>\n",
       "      <th>DELETION|-17|6||1bp</th>\n",
       "      <td>0.002066</td>\n",
       "      <td>2549</td>\n",
       "      <td>6778</td>\n",
       "    </tr>\n",
       "    <tr>\n",
       "      <th>0610009B22Rik-4</th>\n",
       "      <th>DELETION|-10|2||1bp</th>\n",
       "      <td>0.002077</td>\n",
       "      <td>3757</td>\n",
       "      <td>8186</td>\n",
       "    </tr>\n",
       "  </tbody>\n",
       "</table>\n",
       "</div>"
      ],
      "text/plain": [
       "                                                         fraction_per_barcode  \\\n",
       "Alias Gene          Barcode         outcome                                     \n",
       "MB01  0610009B22Rik 0610009B22Rik-5 DELETION|-17|6||1bp              0.002066   \n",
       "                    0610009B22Rik-4 DELETION|-10|2||1bp              0.002077   \n",
       "\n",
       "                                                         mutEvents  \\\n",
       "Alias Gene          Barcode         outcome                          \n",
       "MB01  0610009B22Rik 0610009B22Rik-5 DELETION|-17|6||1bp       2549   \n",
       "                    0610009B22Rik-4 DELETION|-10|2||1bp       3757   \n",
       "\n",
       "                                                         countEvents  \n",
       "Alias Gene          Barcode         outcome                           \n",
       "MB01  0610009B22Rik 0610009B22Rik-5 DELETION|-17|6||1bp         6778  \n",
       "                    0610009B22Rik-4 DELETION|-10|2||1bp         8186  "
      ]
     },
     "execution_count": 1,
     "metadata": {},
     "output_type": "execute_result"
    }
   ],
   "source": [
    "from src.data.load_dataset import load_samples_01_to_06\n",
    "\n",
    "df = load_samples_01_to_06(raw=True)\n",
    "df.head(2)"
   ]
  },
  {
   "cell_type": "code",
   "execution_count": 2,
   "metadata": {},
   "outputs": [
    {
     "data": {
      "image/png": "[encoded data removed]",
      "text/plain": [
       "<Figure size 640x480 with 1 Axes>"
      ]
     },
     "metadata": {},
     "output_type": "display_data"
    },
    {
     "name": "stderr",
     "output_type": "stream",
     "text": [
      "/Users/colm/anaconda3/envs/MUSICian/lib/python3.9/site-packages/seaborn/_decorators.py:36: FutureWarning: Pass the following variable as a keyword arg: x. From version 0.12, the only valid positional argument will be `data`, and passing other arguments without an explicit keyword will result in an error or misinterpretation.\n",
      "  warnings.warn(\n"
     ]
    },
    {
     "data": {
      "image/png": "[encoded data removed]",
      "text/plain": [
       "<Figure size 640x480 with 1 Axes>"
      ]
     },
     "metadata": {},
     "output_type": "display_data"
    },
    {
     "name": "stdout",
     "output_type": "stream",
     "text": [
      "Min: 1001.000\n",
      "Q1: 1772.000\n",
      "Median: 2571.000\n",
      "Q3: 3658.000\n",
      "Max: 167757.000\n",
      "Number of reads range from min 1001 to max 167757\n"
     ]
    }
   ],
   "source": [
    "import seaborn as sns\n",
    "import matplotlib.pyplot as plt\n",
    "from numpy import percentile\n",
    "\n",
    "barcode_mut_counts_all = df[[\"mutEvents\"]].groupby(level=[\"Alias\", \"Gene\", \"Barcode\"]).max()\n",
    "sns.histplot(barcode_mut_counts_all[\"mutEvents\"])\n",
    "plt.show()\n",
    "\n",
    "sns.boxplot(barcode_mut_counts_all[\"mutEvents\"], showfliers = False)\n",
    "plt.show()\n",
    "\n",
    "\n",
    "quartiles = percentile(barcode_mut_counts_all[\"mutEvents\"], [25, 50, 75])\n",
    "# calculate min/max\n",
    "data_min, data_max = barcode_mut_counts_all[\"mutEvents\"].min(), barcode_mut_counts_all[\"mutEvents\"].max()\n",
    "# print 5-number summary\n",
    "print('Min: %.3f' % data_min)\n",
    "print('Q1: %.3f' % quartiles[0])\n",
    "print('Median: %.3f' % quartiles[1])\n",
    "print('Q3: %.3f' % quartiles[2])\n",
    "print('Max: %.3f' % data_max)\n",
    "\n",
    "print(\"Number of reads range from min {} to max {}\".format(barcode_mut_counts_all[\"mutEvents\"].min(), barcode_mut_counts_all[\"mutEvents\"].max()))"
   ]
  },
  {
   "cell_type": "code",
   "execution_count": 22,
   "metadata": {},
   "outputs": [
    {
     "name": "stdout",
     "output_type": "stream",
     "text": [
      "total number of barcodes,  522951\n",
      "total number of barcodes > 200 mutagenic reads,  522859\n",
      "total number of barcodes > 1000 mutagenic reads,  432096\n"
     ]
    }
   ],
   "source": [
    "print(\"total number of barcodes, \", barcode_mut_counts_all[\"mutEvents\"].shape[0])\n",
    "print(\"total number of barcodes > 200 mutagenic reads, \", (barcode_mut_counts_all[\"mutEvents\"] > 200).sum())\n",
    "print(\"total number of barcodes > 1000 mutagenic reads, \", (barcode_mut_counts_all[\"mutEvents\"] > 1000).sum())"
   ]
  },
  {
   "cell_type": "code",
   "execution_count": 3,
   "metadata": {},
   "outputs": [
    {
     "name": "stdout",
     "output_type": "stream",
     "text": [
      "(18115,)\n",
      "(18115,)\n",
      "(18115,)\n"
     ]
    }
   ],
   "source": [
    "barcode_mut_counts = barcode_mut_counts_all[barcode_mut_counts_all[\"mutEvents\"] > 200]\n",
    "print(barcode_mut_counts.index.get_level_values('Gene').unique().shape)\n",
    "\n",
    "barcode_mut_counts = barcode_mut_counts_all[barcode_mut_counts_all[\"mutEvents\"] > 500]\n",
    "print(barcode_mut_counts.index.get_level_values('Gene').unique().shape)\n",
    "\n",
    "barcode_mut_counts = barcode_mut_counts_all[barcode_mut_counts_all[\"mutEvents\"] > 1000]\n",
    "print(barcode_mut_counts.index.get_level_values('Gene').unique().shape)"
   ]
  },
  {
   "cell_type": "code",
   "execution_count": 31,
   "metadata": {},
   "outputs": [
    {
     "name": "stdout",
     "output_type": "stream",
     "text": [
      "(18332,)\n"
     ]
    },
    {
     "data": {
      "text/plain": [
       "(77398,)"
      ]
     },
     "execution_count": 31,
     "metadata": {},
     "output_type": "execute_result"
    }
   ],
   "source": [
    "import numpy as np\n",
    "\n",
    "barcode_mut_counts = barcode_mut_counts_all[barcode_mut_counts_all[\"mutEvents\"] > 500]\n",
    "print(barcode_mut_counts.index.get_level_values('Gene').unique().shape)\n",
    "\n",
    "common_barcodes = []\n",
    "for alias in barcode_mut_counts.index.get_level_values(\"Alias\").unique():\n",
    "    common_barcodes.append(barcode_mut_counts.loc[alias].index.get_level_values(\"Barcode\").to_list())\n",
    "\n",
    "from functools import reduce\n",
    "common_barcodes = reduce(np.intersect1d, common_barcodes)\n",
    "np.unique(common_barcodes).shape"
   ]
  },
  {
   "cell_type": "code",
   "execution_count": 27,
   "metadata": {},
   "outputs": [
    {
     "name": "stderr",
     "output_type": "stream",
     "text": [
      "/Users/colm/anaconda3/envs/MUSICian/lib/python3.9/site-packages/seaborn/_decorators.py:36: FutureWarning: Pass the following variable as a keyword arg: x. From version 0.12, the only valid positional argument will be `data`, and passing other arguments without an explicit keyword will result in an error or misinterpretation.\n",
      "  warnings.warn(\n"
     ]
    },
    {
     "data": {
      "text/plain": [
       "[Text(0, 0, '615'),\n",
       " Text(0, 0, '892'),\n",
       " Text(0, 0, '1677'),\n",
       " Text(0, 0, '4195'),\n",
       " Text(0, 0, '10609'),\n",
       " Text(0, 0, '32'),\n",
       " Text(0, 0, '29'),\n",
       " Text(0, 0, '17'),\n",
       " Text(0, 0, '17'),\n",
       " Text(0, 0, '19'),\n",
       " Text(0, 0, '5'),\n",
       " Text(0, 0, '1'),\n",
       " Text(0, 0, '4'),\n",
       " Text(0, 0, '1'),\n",
       " Text(0, 0, '2')]"
      ]
     },
     "execution_count": 27,
     "metadata": {},
     "output_type": "execute_result"
    },
    {
     "data": {
      "image/png": "[encoded data removed]",
      "text/plain": [
       "<Figure size 640x480 with 1 Axes>"
      ]
     },
     "metadata": {},
     "output_type": "display_data"
    }
   ],
   "source": [
    "gene_barcode_counts = barcode_mut_counts.groupby([\"Gene\", \"Barcode\"]).size().groupby(\"Gene\").size()\n",
    "gene_barcode_counts\n",
    "gene_barcode_counts[gene_barcode_counts == gene_barcode_counts.max()]\n",
    "ax = sns.countplot(gene_barcode_counts)\n",
    "# gene_barcode_counts.value_counts()\n",
    "ax.bar_label(ax.containers[0])"
   ]
  },
  {
   "cell_type": "markdown",
   "metadata": {},
   "source": [
    "So, we can see at this point, when we filter at 200 mutagenic reads per KO sgRNA, we get 16966 KO sgRNAs. We would like to filter out gRNAs that are very obviously outliers. To do this, we must: \n",
    "- Decide on an appropriate repair outcome profile, by deciding what outcomes we should be included. See `29022022_outcome_analysis.ipynb`\n",
    "- Decide on how big the sample size should be before we can even detect outliers\n",
    "- Decide what metric should we be using to calculate outliers"
   ]
  },
  {
   "cell_type": "code",
   "execution_count": 28,
   "metadata": {},
   "outputs": [
    {
     "ename": "NameError",
     "evalue": "name 'outcome_counts_one_per_gene' is not defined",
     "output_type": "error",
     "traceback": [
      "\u001b[0;31m---------------------------------------------------------------------------\u001b[0m",
      "\u001b[0;31mNameError\u001b[0m                                 Traceback (most recent call last)",
      "\u001b[1;32m/Users/colm/repos/MUSICian/notebooks/exploratory/29092022_gRNA_analysis.ipynb Cell 9\u001b[0m in \u001b[0;36m<cell line: 3>\u001b[0;34m()\u001b[0m\n\u001b[1;32m      <a href='vscode-notebook-cell:/Users/colm/repos/MUSICian/notebooks/exploratory/29092022_gRNA_analysis.ipynb#X10sZmlsZQ%3D%3D?line=0'>1</a>\u001b[0m \u001b[39mimport\u001b[39;00m \u001b[39mpandas\u001b[39;00m \u001b[39mas\u001b[39;00m \u001b[39mpd\u001b[39;00m\n\u001b[0;32m----> <a href='vscode-notebook-cell:/Users/colm/repos/MUSICian/notebooks/exploratory/29092022_gRNA_analysis.ipynb#X10sZmlsZQ%3D%3D?line=2'>3</a>\u001b[0m once_only_outcomes \u001b[39m=\u001b[39m outcome_counts_one_per_gene[outcome_counts_one_per_gene \u001b[39m==\u001b[39m \u001b[39m1\u001b[39m]\n\u001b[1;32m      <a href='vscode-notebook-cell:/Users/colm/repos/MUSICian/notebooks/exploratory/29092022_gRNA_analysis.ipynb#X10sZmlsZQ%3D%3D?line=3'>4</a>\u001b[0m once_only_outcomes \u001b[39m=\u001b[39m once_only_outcomes\u001b[39m.\u001b[39mindex\u001b[39m.\u001b[39mto_series()\u001b[39m.\u001b[39mstr\u001b[39m.\u001b[39msplit(\u001b[39m\"\u001b[39m\u001b[39m|\u001b[39m\u001b[39m\"\u001b[39m, expand\u001b[39m=\u001b[39m\u001b[39mTrue\u001b[39;00m)\u001b[39m.\u001b[39mrename(columns\u001b[39m=\u001b[39m{\u001b[39m0\u001b[39m: \u001b[39m\"\u001b[39m\u001b[39mType\u001b[39m\u001b[39m\"\u001b[39m, \u001b[39m1\u001b[39m: \u001b[39m\"\u001b[39m\u001b[39mdelRelativeStart\u001b[39m\u001b[39m\"\u001b[39m, \u001b[39m2\u001b[39m: \u001b[39m\"\u001b[39m\u001b[39mdelRelativeEnd\u001b[39m\u001b[39m\"\u001b[39m, \u001b[39m3\u001b[39m: \u001b[39m\"\u001b[39m\u001b[39mmisc\u001b[39m\u001b[39m\"\u001b[39m})\n",
      "\u001b[0;31mNameError\u001b[0m: name 'outcome_counts_one_per_gene' is not defined"
     ]
    }
   ],
   "source": [
    "import pandas as pd\n",
    "\n",
    "once_only_outcomes = outcome_counts_one_per_gene[outcome_counts_one_per_gene == 1]\n",
    "once_only_outcomes = once_only_outcomes.index.to_series().str.split(\"|\", expand=True).rename(columns={0: \"Type\", 1: \"delRelativeStart\", 2: \"delRelativeEnd\", 3: \"misc\"})"
   ]
  },
  {
   "cell_type": "code",
   "execution_count": null,
   "metadata": {},
   "outputs": [
    {
     "data": {
      "text/plain": [
       "DELINS                        169126\n",
       "TINS                          133603\n",
       "INSERTION                      92808\n",
       "TANDEMDUPLICATION_COMPOUND      7655\n",
       "DELETION                        1079\n",
       "HDR                               66\n",
       "TANDEMDUPLICATION                 23\n",
       "Name: Type, dtype: int64"
      ]
     },
     "execution_count": 51,
     "metadata": {},
     "output_type": "execute_result"
    }
   ],
   "source": [
    "once_only_outcomes[\"Type\"].value_counts()"
   ]
  },
  {
   "cell_type": "code",
   "execution_count": null,
   "metadata": {},
   "outputs": [
    {
     "name": "stdout",
     "output_type": "stream",
     "text": [
      "There are 513246 unique outcomes\n",
      "Min: 0.0000000006\n",
      "Q1: 0.0000000229\n",
      "Median: 0.0000000442\n",
      "Q3: 0.0000000940\n",
      "Max: 0.4680842033\n"
     ]
    }
   ],
   "source": [
    "from numpy import percentile\n",
    "\n",
    "num_genes = df_norm.index.get_level_values(\"Gene\").unique().shape[0]\n",
    "outcomes = (df_norm.groupby(\"outcome\").sum().div(num_genes))\n",
    "print(\"There are {} unique outcomes\".format(outcomes.shape[0]))\n",
    "\n",
    "\n",
    "quartiles = percentile(outcomes, [25, 50, 75])\n",
    "# calculate min/max\n",
    "data_min, data_max = outcomes.min(), outcomes.max()\n",
    "# print 5-number summary\n",
    "print('Min: %.10f' % data_min)\n",
    "print('Q1: %.10f' % quartiles[0])\n",
    "print('Median: %.10f' % quartiles[1])\n",
    "print('Q3: %.10f' % quartiles[2])\n",
    "print('Max: %.10f' % data_max)"
   ]
  },
  {
   "cell_type": "code",
   "execution_count": null,
   "metadata": {},
   "outputs": [
    {
     "data": {
      "text/plain": [
       "<AxesSubplot:ylabel='Count'>"
      ]
     },
     "execution_count": 17,
     "metadata": {},
     "output_type": "execute_result"
    },
    {
     "data": {
      "image/png": "[encoded data removed]",
      "text/plain": [
       "<Figure size 640x480 with 1 Axes>"
      ]
     },
     "metadata": {},
     "output_type": "display_data"
    }
   ],
   "source": [
    "from numpy import log10\n",
    "\n",
    "sns.histplot(log10(outcomes[outcomes > 0.0001]))"
   ]
  },
  {
   "cell_type": "code",
   "execution_count": null,
   "metadata": {},
   "outputs": [],
   "source": []
  }
 ],
 "metadata": {
  "kernelspec": {
   "display_name": "Python 3.9.13 ('MUSICian')",
   "language": "python",
   "name": "python3"
  },
  "language_info": {
   "codemirror_mode": {
    "name": "ipython",
    "version": 3
   },
   "file_extension": ".py",
   "mimetype": "text/x-python",
   "name": "python",
   "nbconvert_exporter": "python",
   "pygments_lexer": "ipython3",
   "version": "3.9.13"
  },
  "orig_nbformat": 4,
  "vscode": {
   "interpreter": {
    "hash": "428a601510a5f32e3d3b942ab75f6ba62837b2d513da56945220e688e5061952"
   }
  }
 },
 "nbformat": 4,
 "nbformat_minor": 2
}
