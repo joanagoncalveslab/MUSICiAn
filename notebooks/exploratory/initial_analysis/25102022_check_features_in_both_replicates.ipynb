{
 "cells": [
  {
   "cell_type": "code",
   "execution_count": 1,
   "metadata": {},
   "outputs": [],
   "source": [
    "import sqlite3\n",
    "import pandas as pd\n",
    "import seaborn as sns\n",
    "import numpy as np\n",
    "import matplotlib.pyplot as plt\n",
    "\n",
    "from src.data.load_dataset import load_lumc_outcomes\n",
    "from src.config import get_common_barcodes"
   ]
  },
  {
   "cell_type": "code",
   "execution_count": 2,
   "metadata": {},
   "outputs": [
    {
     "name": "stderr",
     "output_type": "stream",
     "text": [
      "/Users/colm/repos/MUSICian/src/data/load_dataset.py:80: FutureWarning: Using the level keyword in DataFrame and Series aggregations is deprecated and will be removed in a future version. Use groupby instead. df.sum(level=1) should use df.groupby(level=1).sum().\n",
      "  totals = df_idx[[\"fraction_per_barcode\"]].sum(level=[\"Target\", \"Alias\", \"Gene\", \"Barcode\"])\n"
     ]
    },
    {
     "name": "stdout",
     "output_type": "stream",
     "text": [
      "Normalised per Gene\n"
     ]
    },
    {
     "data": {
      "text/html": [
       "<div>\n",
       "<style scoped>\n",
       "    .dataframe tbody tr th:only-of-type {\n",
       "        vertical-align: middle;\n",
       "    }\n",
       "\n",
       "    .dataframe tbody tr th {\n",
       "        vertical-align: top;\n",
       "    }\n",
       "\n",
       "    .dataframe thead th {\n",
       "        text-align: right;\n",
       "    }\n",
       "</style>\n",
       "<table border=\"1\" class=\"dataframe\">\n",
       "  <thead>\n",
       "    <tr style=\"text-align: right;\">\n",
       "      <th></th>\n",
       "      <th></th>\n",
       "      <th></th>\n",
       "      <th></th>\n",
       "      <th>fraction_per_barcode</th>\n",
       "      <th>lumc_category</th>\n",
       "      <th>del_len</th>\n",
       "      <th>countEvents</th>\n",
       "    </tr>\n",
       "    <tr>\n",
       "      <th>Target</th>\n",
       "      <th>Alias</th>\n",
       "      <th>Gene</th>\n",
       "      <th>Barcode</th>\n",
       "      <th></th>\n",
       "      <th></th>\n",
       "      <th></th>\n",
       "      <th></th>\n",
       "    </tr>\n",
       "  </thead>\n",
       "  <tbody>\n",
       "    <tr>\n",
       "      <th rowspan=\"5\" valign=\"top\">T1</th>\n",
       "      <th rowspan=\"5\" valign=\"top\">MB01</th>\n",
       "      <th rowspan=\"5\" valign=\"top\">0610009B22Rik</th>\n",
       "      <th>0610009B22Rik-1</th>\n",
       "      <td>0.056075</td>\n",
       "      <td>1bp insertion - A</td>\n",
       "      <td>0</td>\n",
       "      <td>126</td>\n",
       "    </tr>\n",
       "    <tr>\n",
       "      <th>0610009B22Rik-1</th>\n",
       "      <td>0.001780</td>\n",
       "      <td>1bp insertion - C</td>\n",
       "      <td>0</td>\n",
       "      <td>4</td>\n",
       "    </tr>\n",
       "    <tr>\n",
       "      <th>0610009B22Rik-1</th>\n",
       "      <td>0.013351</td>\n",
       "      <td>1bp insertion - G</td>\n",
       "      <td>0</td>\n",
       "      <td>30</td>\n",
       "    </tr>\n",
       "    <tr>\n",
       "      <th>0610009B22Rik-1</th>\n",
       "      <td>0.002225</td>\n",
       "      <td>1bp insertion - T</td>\n",
       "      <td>0</td>\n",
       "      <td>5</td>\n",
       "    </tr>\n",
       "    <tr>\n",
       "      <th>0610009B22Rik-1</th>\n",
       "      <td>0.024477</td>\n",
       "      <td>&gt;1bp insertion</td>\n",
       "      <td>0</td>\n",
       "      <td>55</td>\n",
       "    </tr>\n",
       "  </tbody>\n",
       "</table>\n",
       "</div>"
      ],
      "text/plain": [
       "                                            fraction_per_barcode  \\\n",
       "Target Alias Gene          Barcode                                 \n",
       "T1     MB01  0610009B22Rik 0610009B22Rik-1              0.056075   \n",
       "                           0610009B22Rik-1              0.001780   \n",
       "                           0610009B22Rik-1              0.013351   \n",
       "                           0610009B22Rik-1              0.002225   \n",
       "                           0610009B22Rik-1              0.024477   \n",
       "\n",
       "                                                lumc_category  del_len  \\\n",
       "Target Alias Gene          Barcode                                       \n",
       "T1     MB01  0610009B22Rik 0610009B22Rik-1  1bp insertion - A        0   \n",
       "                           0610009B22Rik-1  1bp insertion - C        0   \n",
       "                           0610009B22Rik-1  1bp insertion - G        0   \n",
       "                           0610009B22Rik-1  1bp insertion - T        0   \n",
       "                           0610009B22Rik-1     >1bp insertion        0   \n",
       "\n",
       "                                            countEvents  \n",
       "Target Alias Gene          Barcode                       \n",
       "T1     MB01  0610009B22Rik 0610009B22Rik-1          126  \n",
       "                           0610009B22Rik-1            4  \n",
       "                           0610009B22Rik-1           30  \n",
       "                           0610009B22Rik-1            5  \n",
       "                           0610009B22Rik-1           55  "
      ]
     },
     "execution_count": 2,
     "metadata": {},
     "output_type": "execute_result"
    }
   ],
   "source": [
    "# takes about 6 minutes to load the data into memory\n",
    "df = load_lumc_outcomes()\n",
    "df.head()"
   ]
  },
  {
   "cell_type": "code",
   "execution_count": 20,
   "metadata": {},
   "outputs": [],
   "source": [
    "counts = df.groupby([\"Target\", \"Gene\"]).sum()"
   ]
  },
  {
   "cell_type": "code",
   "execution_count": 23,
   "metadata": {},
   "outputs": [
    {
     "data": {
      "text/html": [
       "<div>\n",
       "<style scoped>\n",
       "    .dataframe tbody tr th:only-of-type {\n",
       "        vertical-align: middle;\n",
       "    }\n",
       "\n",
       "    .dataframe tbody tr th {\n",
       "        vertical-align: top;\n",
       "    }\n",
       "\n",
       "    .dataframe thead th {\n",
       "        text-align: right;\n",
       "    }\n",
       "</style>\n",
       "<table border=\"1\" class=\"dataframe\">\n",
       "  <thead>\n",
       "    <tr style=\"text-align: right;\">\n",
       "      <th></th>\n",
       "      <th>fraction_per_barcode</th>\n",
       "      <th>del_len</th>\n",
       "      <th>countEvents</th>\n",
       "    </tr>\n",
       "    <tr>\n",
       "      <th>Target</th>\n",
       "      <th></th>\n",
       "      <th></th>\n",
       "      <th></th>\n",
       "    </tr>\n",
       "  </thead>\n",
       "  <tbody>\n",
       "    <tr>\n",
       "      <th>T1</th>\n",
       "      <td>10.0</td>\n",
       "      <td>5095</td>\n",
       "      <td>19824</td>\n",
       "    </tr>\n",
       "    <tr>\n",
       "      <th>T2</th>\n",
       "      <td>10.0</td>\n",
       "      <td>4480</td>\n",
       "      <td>30214</td>\n",
       "    </tr>\n",
       "    <tr>\n",
       "      <th>T3</th>\n",
       "      <td>10.0</td>\n",
       "      <td>5055</td>\n",
       "      <td>24427</td>\n",
       "    </tr>\n",
       "  </tbody>\n",
       "</table>\n",
       "</div>"
      ],
      "text/plain": [
       "        fraction_per_barcode  del_len  countEvents\n",
       "Target                                            \n",
       "T1                      10.0     5095        19824\n",
       "T2                      10.0     4480        30214\n",
       "T3                      10.0     5055        24427"
      ]
     },
     "execution_count": 23,
     "metadata": {},
     "output_type": "execute_result"
    }
   ],
   "source": [
    "counts.xs(\"Xrcc1\", level=\"Gene\")"
   ]
  }
 ],
 "metadata": {
  "kernelspec": {
   "display_name": "Python 3.9.13 ('MUSICian')",
   "language": "python",
   "name": "python3"
  },
  "language_info": {
   "codemirror_mode": {
    "name": "ipython",
    "version": 3
   },
   "file_extension": ".py",
   "mimetype": "text/x-python",
   "name": "python",
   "nbconvert_exporter": "python",
   "pygments_lexer": "ipython3",
   "version": "3.9.13"
  },
  "orig_nbformat": 4,
  "vscode": {
   "interpreter": {
    "hash": "428a601510a5f32e3d3b942ab75f6ba62837b2d513da56945220e688e5061952"
   }
  }
 },
 "nbformat": 4,
 "nbformat_minor": 2
}
