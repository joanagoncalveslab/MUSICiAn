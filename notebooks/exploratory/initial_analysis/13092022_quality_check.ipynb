{
 "cells": [
  {
   "cell_type": "code",
   "execution_count": 1,
   "metadata": {},
   "outputs": [],
   "source": [
    "# OPTIONAL: Load the \"autoreload\" extension so that code can change\n",
    "%load_ext autoreload\n",
    "\n",
    "# OPTIONAL: always reload modules so that as you change code in src, it gets loaded\n",
    "%autoreload 2"
   ]
  },
  {
   "cell_type": "code",
   "execution_count": 2,
   "metadata": {},
   "outputs": [],
   "source": [
    "import sqlite3\n",
    "import pandas as pd\n",
    "import seaborn as sns\n",
    "import numpy as np\n",
    "import matplotlib.pyplot as plt\n",
    "from src.config import HOME_PATH, get_common_barcodes"
   ]
  },
  {
   "cell_type": "code",
   "execution_count": 3,
   "metadata": {},
   "outputs": [
    {
     "data": {
      "text/html": [
       "<div>\n",
       "<style scoped>\n",
       "    .dataframe tbody tr th:only-of-type {\n",
       "        vertical-align: middle;\n",
       "    }\n",
       "\n",
       "    .dataframe tbody tr th {\n",
       "        vertical-align: top;\n",
       "    }\n",
       "\n",
       "    .dataframe thead th {\n",
       "        text-align: right;\n",
       "    }\n",
       "</style>\n",
       "<table border=\"1\" class=\"dataframe\">\n",
       "  <thead>\n",
       "    <tr style=\"text-align: right;\">\n",
       "      <th></th>\n",
       "      <th>Target</th>\n",
       "      <th>Alias</th>\n",
       "      <th>Gene</th>\n",
       "      <th>Barcode</th>\n",
       "      <th>Filtered</th>\n",
       "      <th>Counts</th>\n",
       "      <th>Corr_Within</th>\n",
       "      <th>Corr_Between</th>\n",
       "      <th>log10Count</th>\n",
       "    </tr>\n",
       "  </thead>\n",
       "  <tbody>\n",
       "    <tr>\n",
       "      <th>0</th>\n",
       "      <td>T1</td>\n",
       "      <td>MB01</td>\n",
       "      <td>0610009B22Rik</td>\n",
       "      <td>0610009B22Rik-1</td>\n",
       "      <td>0</td>\n",
       "      <td>2247.0</td>\n",
       "      <td>0.952007</td>\n",
       "      <td>0.910326</td>\n",
       "      <td>3.351603</td>\n",
       "    </tr>\n",
       "    <tr>\n",
       "      <th>1</th>\n",
       "      <td>T1</td>\n",
       "      <td>MB01</td>\n",
       "      <td>0610009B22Rik</td>\n",
       "      <td>0610009B22Rik-2</td>\n",
       "      <td>0</td>\n",
       "      <td>2792.0</td>\n",
       "      <td>0.962390</td>\n",
       "      <td>0.939419</td>\n",
       "      <td>3.445915</td>\n",
       "    </tr>\n",
       "    <tr>\n",
       "      <th>2</th>\n",
       "      <td>T1</td>\n",
       "      <td>MB01</td>\n",
       "      <td>0610009B22Rik</td>\n",
       "      <td>0610009B22Rik-3</td>\n",
       "      <td>0</td>\n",
       "      <td>3907.0</td>\n",
       "      <td>0.966884</td>\n",
       "      <td>0.952470</td>\n",
       "      <td>3.591843</td>\n",
       "    </tr>\n",
       "    <tr>\n",
       "      <th>3</th>\n",
       "      <td>T1</td>\n",
       "      <td>MB01</td>\n",
       "      <td>0610009B22Rik</td>\n",
       "      <td>0610009B22Rik-4</td>\n",
       "      <td>0</td>\n",
       "      <td>3757.0</td>\n",
       "      <td>0.968739</td>\n",
       "      <td>0.955281</td>\n",
       "      <td>3.574841</td>\n",
       "    </tr>\n",
       "    <tr>\n",
       "      <th>4</th>\n",
       "      <td>T1</td>\n",
       "      <td>MB01</td>\n",
       "      <td>0610009B22Rik</td>\n",
       "      <td>0610009B22Rik-5</td>\n",
       "      <td>0</td>\n",
       "      <td>2549.0</td>\n",
       "      <td>0.965979</td>\n",
       "      <td>0.959352</td>\n",
       "      <td>3.406370</td>\n",
       "    </tr>\n",
       "  </tbody>\n",
       "</table>\n",
       "</div>"
      ],
      "text/plain": [
       "  Target Alias           Gene          Barcode  Filtered  Counts  Corr_Within  \\\n",
       "0     T1  MB01  0610009B22Rik  0610009B22Rik-1         0  2247.0     0.952007   \n",
       "1     T1  MB01  0610009B22Rik  0610009B22Rik-2         0  2792.0     0.962390   \n",
       "2     T1  MB01  0610009B22Rik  0610009B22Rik-3         0  3907.0     0.966884   \n",
       "3     T1  MB01  0610009B22Rik  0610009B22Rik-4         0  3757.0     0.968739   \n",
       "4     T1  MB01  0610009B22Rik  0610009B22Rik-5         0  2549.0     0.965979   \n",
       "\n",
       "   Corr_Between  log10Count  \n",
       "0      0.910326    3.351603  \n",
       "1      0.939419    3.445915  \n",
       "2      0.952470    3.591843  \n",
       "3      0.955281    3.574841  \n",
       "4      0.959352    3.406370  "
      ]
     },
     "execution_count": 3,
     "metadata": {},
     "output_type": "execute_result"
    }
   ],
   "source": [
    "df = pd.read_csv(get_common_barcodes(), sep=\"\\t\")\n",
    "df.head()"
   ]
  },
  {
   "cell_type": "code",
   "execution_count": 4,
   "metadata": {},
   "outputs": [
    {
     "data": {
      "text/plain": [
       "(426862,)"
      ]
     },
     "execution_count": 4,
     "metadata": {},
     "output_type": "execute_result"
    }
   ],
   "source": [
    "df[df[\"Filtered\"] == 0][\"Barcode\"].shape"
   ]
  },
  {
   "cell_type": "code",
   "execution_count": 5,
   "metadata": {},
   "outputs": [
    {
     "data": {
      "text/plain": [
       "0        Dut\n",
       "1    Faap100\n",
       "2      Fanca\n",
       "3      Fancb\n",
       "4      Fancc\n",
       "Name: Gene, dtype: object"
      ]
     },
     "execution_count": 5,
     "metadata": {},
     "output_type": "execute_result"
    }
   ],
   "source": [
    "genesubset2 = pd.read_csv(HOME_PATH + \"/repos/MUSICian/src/data/GeneSubset2.txt\", sep=\"\\t\")[\"Gene\"]\n",
    "genesubset2.head()"
   ]
  },
  {
   "cell_type": "code",
   "execution_count": 6,
   "metadata": {},
   "outputs": [
    {
     "data": {
      "text/plain": [
       "(628,)"
      ]
     },
     "execution_count": 6,
     "metadata": {},
     "output_type": "execute_result"
    }
   ],
   "source": [
    "genesubsetSD30 = pd.read_csv(HOME_PATH + \"/repos/MUSICian/src/data/GeneSubsetSD30.txt\", sep=\"\\t\")[\"Gene\"]\n",
    "genesubsetSD30.shape"
   ]
  },
  {
   "cell_type": "code",
   "execution_count": 7,
   "metadata": {},
   "outputs": [
    {
     "data": {
      "text/plain": [
       "(476,)"
      ]
     },
     "execution_count": 7,
     "metadata": {},
     "output_type": "execute_result"
    }
   ],
   "source": [
    "from src.config import get_hussmann_supplementary_xlsx\n",
    "\n",
    "hussmann_repair_genes = pd.read_excel(get_hussmann_supplementary_xlsx(4), sheet_name=\"Table S4\", skiprows=1)[\"Gene\"].str.lower()\n",
    "hussmann_repair_genes.shape\n"
   ]
  },
  {
   "cell_type": "code",
   "execution_count": 8,
   "metadata": {},
   "outputs": [
    {
     "data": {
      "text/plain": [
       "(536765, 9)"
      ]
     },
     "execution_count": 8,
     "metadata": {},
     "output_type": "execute_result"
    }
   ],
   "source": [
    "df.shape"
   ]
  },
  {
   "cell_type": "code",
   "execution_count": 9,
   "metadata": {},
   "outputs": [],
   "source": [
    "filtered_df = df.set_index([\"Alias\", \"Gene\", \"Barcode\"])\n",
    "filtered_df[\"Filtered\"] = filtered_df[\"Filtered\"].isin([1,2,3,4])\n",
    "# filtered_df = filtered_df.set_index([\"Alias\", \"Gene\", \"Barcode\"])\n",
    "filtered_df = filtered_df[\"Filtered\"].groupby(\"Gene\").all()\n"
   ]
  },
  {
   "cell_type": "code",
   "execution_count": 10,
   "metadata": {},
   "outputs": [],
   "source": [
    "filtered_genes = filtered_df[filtered_df].index.unique().to_list()"
   ]
  },
  {
   "cell_type": "code",
   "execution_count": 11,
   "metadata": {},
   "outputs": [
    {
     "name": "stdout",
     "output_type": "stream",
     "text": [
      "378\n",
      "52\n"
     ]
    },
    {
     "data": {
      "text/plain": [
       "array(['Mad2l2', 'Tonsl'], dtype=object)"
      ]
     },
     "execution_count": 11,
     "metadata": {},
     "output_type": "execute_result"
    }
   ],
   "source": [
    "print(len(filtered_genes))\n",
    "print(len(genesubset2))\n",
    "genes_to_check = np.intersect1d(filtered_genes, genesubset2)\n",
    "genes_to_check"
   ]
  },
  {
   "cell_type": "code",
   "execution_count": 12,
   "metadata": {},
   "outputs": [
    {
     "name": "stdout",
     "output_type": "stream",
     "text": [
      "378\n",
      "628\n"
     ]
    },
    {
     "data": {
      "text/plain": [
       "(95,)"
      ]
     },
     "execution_count": 12,
     "metadata": {},
     "output_type": "execute_result"
    }
   ],
   "source": [
    "print(len(filtered_genes))\n",
    "print(len(genesubsetSD30))\n",
    "genes_to_checkSD30 = np.intersect1d(filtered_genes, genesubsetSD30)\n",
    "genes_to_checkSD30.shape"
   ]
  },
  {
   "cell_type": "code",
   "execution_count": 13,
   "metadata": {},
   "outputs": [
    {
     "name": "stdout",
     "output_type": "stream",
     "text": [
      "378\n",
      "476\n"
     ]
    },
    {
     "data": {
      "text/plain": [
       "(20,)"
      ]
     },
     "execution_count": 13,
     "metadata": {},
     "output_type": "execute_result"
    }
   ],
   "source": [
    "print(len(filtered_genes))\n",
    "print(len(hussmann_repair_genes))\n",
    "genes_to_check_hussmann = np.intersect1d(np.char.lower(filtered_genes), hussmann_repair_genes)\n",
    "genes_to_check_hussmann.shape"
   ]
  },
  {
   "cell_type": "code",
   "execution_count": 14,
   "metadata": {},
   "outputs": [
    {
     "data": {
      "text/plain": [
       "array(['Aars', 'Actr10', 'Arl2', 'Aurka', 'Aurkb', 'Banf1', 'Bccip',\n",
       "       'Cct4', 'Cdc37', 'Cdk1', 'Cenpk', 'Cept1', 'Cfap298', 'Cinp',\n",
       "       'Cpsf3', 'Cse1l', 'Ddx47', 'Ddx49', 'Ddx52', 'Dpagt1', 'Dtl',\n",
       "       'Dynll1', 'Eif1ad', 'Eif4a1', 'Emg1', 'Exosc8', 'Fnta', 'Ggps1',\n",
       "       'Gtf2a2', 'Hspa9', 'Hspd1', 'Krr1', 'Mad2l1', 'Mdm2', 'Med6',\n",
       "       'Med8', 'Mtrex', 'Napa', 'Nat10', 'Nhp2', 'Nol6', 'Nsf', 'Nuf2',\n",
       "       'Orc6', 'Pafah1b1', 'Pes1', 'Pfdn6', 'Polr1b', 'Polr1f', 'Polr2a',\n",
       "       'Polr2g', 'Polr2j', 'Ppp1r11', 'Ppp4c', 'Prelid1', 'Prpf8',\n",
       "       'Psma3', 'Psmb6', 'Psmc4', 'Psmd14', 'Qars', 'Riok2', 'Rplp0',\n",
       "       'Rps5', 'Rrs1', 'Sars', 'Sf1', 'Smc1a', 'Snapc4', 'Snrnp35',\n",
       "       'Snrpg', 'Sod1', 'Srp72', 'Ssu72', 'Taf2', 'Thoc1', 'Timm10',\n",
       "       'Tinf2', 'Tma16', 'Tonsl', 'Top3a', 'Trmt112', 'Tubb5', 'Tut1',\n",
       "       'Txnl4b', 'Uba2', 'Utp4', 'Utp6', 'Vezt', 'Vmn1r167', 'Wdr12',\n",
       "       'Wdr82', 'Ykt6', 'Zcchc9', 'Zfp944'], dtype=object)"
      ]
     },
     "execution_count": 14,
     "metadata": {},
     "output_type": "execute_result"
    }
   ],
   "source": [
    "genes_to_checkSD30"
   ]
  },
  {
   "cell_type": "code",
   "execution_count": 15,
   "metadata": {},
   "outputs": [
    {
     "data": {
      "text/plain": [
       "array(['cdk1', 'dtl', 'gpn1', 'gtf2h2', 'hmgb1', 'mad2l2', 'mdm2',\n",
       "       'nat10', 'pcna', 'rpa3', 'smc1a', 'ssbp1', 'ssrp1', 'sumo2',\n",
       "       'thoc1', 'tonsl', 'top3a', 'uba2', 'ube2i', 'usp7'], dtype=object)"
      ]
     },
     "execution_count": 15,
     "metadata": {},
     "output_type": "execute_result"
    }
   ],
   "source": [
    "genes_to_check_hussmann"
   ]
  },
  {
   "cell_type": "code",
   "execution_count": 16,
   "metadata": {},
   "outputs": [
    {
     "data": {
      "text/html": [
       "<div>\n",
       "<style scoped>\n",
       "    .dataframe tbody tr th:only-of-type {\n",
       "        vertical-align: middle;\n",
       "    }\n",
       "\n",
       "    .dataframe tbody tr th {\n",
       "        vertical-align: top;\n",
       "    }\n",
       "\n",
       "    .dataframe thead th {\n",
       "        text-align: right;\n",
       "    }\n",
       "</style>\n",
       "<table border=\"1\" class=\"dataframe\">\n",
       "  <thead>\n",
       "    <tr style=\"text-align: right;\">\n",
       "      <th></th>\n",
       "      <th></th>\n",
       "      <th></th>\n",
       "      <th>Target</th>\n",
       "      <th>Filtered</th>\n",
       "      <th>Counts</th>\n",
       "      <th>Corr_Within</th>\n",
       "      <th>Corr_Between</th>\n",
       "      <th>log10Count</th>\n",
       "    </tr>\n",
       "    <tr>\n",
       "      <th>Gene</th>\n",
       "      <th>Barcode</th>\n",
       "      <th>Alias</th>\n",
       "      <th></th>\n",
       "      <th></th>\n",
       "      <th></th>\n",
       "      <th></th>\n",
       "      <th></th>\n",
       "      <th></th>\n",
       "    </tr>\n",
       "  </thead>\n",
       "  <tbody>\n",
       "    <tr>\n",
       "      <th rowspan=\"5\" valign=\"top\">Cdk1</th>\n",
       "      <th>Cdk1-1</th>\n",
       "      <th>MB01</th>\n",
       "      <td>T1</td>\n",
       "      <td>1</td>\n",
       "      <td>175.0</td>\n",
       "      <td>NaN</td>\n",
       "      <td>NaN</td>\n",
       "      <td>2.243038</td>\n",
       "    </tr>\n",
       "    <tr>\n",
       "      <th>Cdk1-3</th>\n",
       "      <th>MB02</th>\n",
       "      <td>T1</td>\n",
       "      <td>1</td>\n",
       "      <td>263.0</td>\n",
       "      <td>NaN</td>\n",
       "      <td>NaN</td>\n",
       "      <td>2.419956</td>\n",
       "    </tr>\n",
       "    <tr>\n",
       "      <th>Cdk1-4</th>\n",
       "      <th>MB02</th>\n",
       "      <td>T1</td>\n",
       "      <td>1</td>\n",
       "      <td>160.0</td>\n",
       "      <td>NaN</td>\n",
       "      <td>NaN</td>\n",
       "      <td>2.204120</td>\n",
       "    </tr>\n",
       "    <tr>\n",
       "      <th>Cdk1-5</th>\n",
       "      <th>MB02</th>\n",
       "      <td>T1</td>\n",
       "      <td>1</td>\n",
       "      <td>303.0</td>\n",
       "      <td>NaN</td>\n",
       "      <td>NaN</td>\n",
       "      <td>2.481443</td>\n",
       "    </tr>\n",
       "    <tr>\n",
       "      <th>Cdk1-1</th>\n",
       "      <th>MB03</th>\n",
       "      <td>T2</td>\n",
       "      <td>1</td>\n",
       "      <td>324.0</td>\n",
       "      <td>NaN</td>\n",
       "      <td>NaN</td>\n",
       "      <td>2.510545</td>\n",
       "    </tr>\n",
       "    <tr>\n",
       "      <th>...</th>\n",
       "      <th>...</th>\n",
       "      <th>...</th>\n",
       "      <td>...</td>\n",
       "      <td>...</td>\n",
       "      <td>...</td>\n",
       "      <td>...</td>\n",
       "      <td>...</td>\n",
       "      <td>...</td>\n",
       "    </tr>\n",
       "    <tr>\n",
       "      <th rowspan=\"5\" valign=\"top\">Usp7</th>\n",
       "      <th rowspan=\"2\" valign=\"top\">Usp7-1</th>\n",
       "      <th>MB01</th>\n",
       "      <td>T1</td>\n",
       "      <td>2</td>\n",
       "      <td>49.0</td>\n",
       "      <td>NaN</td>\n",
       "      <td>NaN</td>\n",
       "      <td>1.690196</td>\n",
       "    </tr>\n",
       "    <tr>\n",
       "      <th>MB05</th>\n",
       "      <td>T3</td>\n",
       "      <td>1</td>\n",
       "      <td>56.0</td>\n",
       "      <td>NaN</td>\n",
       "      <td>NaN</td>\n",
       "      <td>1.748188</td>\n",
       "    </tr>\n",
       "    <tr>\n",
       "      <th>Usp7-2</th>\n",
       "      <th>MB05</th>\n",
       "      <td>T3</td>\n",
       "      <td>1</td>\n",
       "      <td>416.0</td>\n",
       "      <td>NaN</td>\n",
       "      <td>NaN</td>\n",
       "      <td>2.619093</td>\n",
       "    </tr>\n",
       "    <tr>\n",
       "      <th rowspan=\"2\" valign=\"top\">Usp7-5</th>\n",
       "      <th>MB01</th>\n",
       "      <td>T1</td>\n",
       "      <td>2</td>\n",
       "      <td>1022.0</td>\n",
       "      <td>NaN</td>\n",
       "      <td>NaN</td>\n",
       "      <td>3.009451</td>\n",
       "    </tr>\n",
       "    <tr>\n",
       "      <th>MB06</th>\n",
       "      <td>T3</td>\n",
       "      <td>1</td>\n",
       "      <td>991.0</td>\n",
       "      <td>NaN</td>\n",
       "      <td>NaN</td>\n",
       "      <td>2.996074</td>\n",
       "    </tr>\n",
       "  </tbody>\n",
       "</table>\n",
       "<p>541 rows × 6 columns</p>\n",
       "</div>"
      ],
      "text/plain": [
       "                   Target  Filtered  Counts  Corr_Within  Corr_Between  \\\n",
       "Gene Barcode Alias                                                       \n",
       "Cdk1 Cdk1-1  MB01      T1         1   175.0          NaN           NaN   \n",
       "     Cdk1-3  MB02      T1         1   263.0          NaN           NaN   \n",
       "     Cdk1-4  MB02      T1         1   160.0          NaN           NaN   \n",
       "     Cdk1-5  MB02      T1         1   303.0          NaN           NaN   \n",
       "     Cdk1-1  MB03      T2         1   324.0          NaN           NaN   \n",
       "...                   ...       ...     ...          ...           ...   \n",
       "Usp7 Usp7-1  MB01      T1         2    49.0          NaN           NaN   \n",
       "             MB05      T3         1    56.0          NaN           NaN   \n",
       "     Usp7-2  MB05      T3         1   416.0          NaN           NaN   \n",
       "     Usp7-5  MB01      T1         2  1022.0          NaN           NaN   \n",
       "             MB06      T3         1   991.0          NaN           NaN   \n",
       "\n",
       "                    log10Count  \n",
       "Gene Barcode Alias              \n",
       "Cdk1 Cdk1-1  MB01     2.243038  \n",
       "     Cdk1-3  MB02     2.419956  \n",
       "     Cdk1-4  MB02     2.204120  \n",
       "     Cdk1-5  MB02     2.481443  \n",
       "     Cdk1-1  MB03     2.510545  \n",
       "...                        ...  \n",
       "Usp7 Usp7-1  MB01     1.690196  \n",
       "             MB05     1.748188  \n",
       "     Usp7-2  MB05     2.619093  \n",
       "     Usp7-5  MB01     3.009451  \n",
       "             MB06     2.996074  \n",
       "\n",
       "[541 rows x 6 columns]"
      ]
     },
     "execution_count": 16,
     "metadata": {},
     "output_type": "execute_result"
    }
   ],
   "source": [
    "df[(df[\"Gene\"].str.lower().isin(genes_to_check_hussmann))].set_index([\"Gene\", \"Barcode\", \"Alias\"]).sort_values(by=\"Gene\")"
   ]
  },
  {
   "cell_type": "code",
   "execution_count": 17,
   "metadata": {},
   "outputs": [],
   "source": [
    "df[\"Filtered_by_1\"] = False\n",
    "df[\"Filtered_by_1\"] = (df[\"Filtered\"] > 0) & (df[\"Filtered\"] <= 1)\n",
    "\n",
    "df[\"Filtered_by_2\"] = False\n",
    "df[\"Filtered_by_2\"] = (df[\"Filtered\"] > 0) & (df[\"Filtered\"] <= 2)\n",
    "\n",
    "df[\"Filtered_by_3\"] = False\n",
    "df[\"Filtered_by_3\"] = (df[\"Filtered\"] > 0) & (df[\"Filtered\"] <= 3)\n",
    "\n",
    "df[\"Filtered_by_4\"] = False\n",
    "df[\"Filtered_by_4\"] = (df[\"Filtered\"] > 0) & (df[\"Filtered\"] <= 4)\n",
    "\n",
    "df[\"Filtered_by_5\"] = False\n",
    "df[\"Filtered_by_5\"] = (df[\"Filtered\"] > 0) & (df[\"Filtered\"] <= 5)"
   ]
  },
  {
   "cell_type": "code",
   "execution_count": 18,
   "metadata": {},
   "outputs": [
    {
     "data": {
      "text/plain": [
       "Alias\n",
       "MB01    450\n",
       "MB02    447\n",
       "MB03    453\n",
       "MB04    451\n",
       "MB05    451\n",
       "MB06    452\n",
       "Name: Filtered_by_3, dtype: int64"
      ]
     },
     "execution_count": 18,
     "metadata": {},
     "output_type": "execute_result"
    }
   ],
   "source": [
    "df[df[\"Gene\"].isin(genes_to_checkSD30)].set_index([\"Alias\", \"Gene\", \"Barcode\"])[\"Filtered_by_3\"].groupby([\"Alias\"]).sum()#.sum(level=\"Alias\")\n"
   ]
  },
  {
   "cell_type": "code",
   "execution_count": 19,
   "metadata": {},
   "outputs": [
    {
     "data": {
      "text/plain": [
       "(0,)"
      ]
     },
     "execution_count": 19,
     "metadata": {},
     "output_type": "execute_result"
    }
   ],
   "source": [
    "df[df[\"Gene\"].isin(genes_to_checkSD30) & df[\"Filtered\"].isin([0,5])][\"Gene\"].unique().shape"
   ]
  },
  {
   "cell_type": "code",
   "execution_count": 23,
   "metadata": {},
   "outputs": [
    {
     "data": {
      "text/plain": [
       "Filtered  Alias\n",
       "1         MB01     86\n",
       "          MB02     85\n",
       "          MB03     61\n",
       "          MB04     61\n",
       "          MB05     86\n",
       "          MB06     86\n",
       "2         MB01      4\n",
       "          MB02      4\n",
       "          MB03     29\n",
       "          MB04     29\n",
       "          MB05      5\n",
       "          MB06      5\n",
       "dtype: int64"
      ]
     },
     "execution_count": 23,
     "metadata": {},
     "output_type": "execute_result"
    }
   ],
   "source": [
    "df[df[\"Gene\"].str.lower().isin(genes_to_check_hussmann)].groupby([ \"Filtered\", \"Alias\"]).size()"
   ]
  },
  {
   "cell_type": "code",
   "execution_count": 22,
   "metadata": {},
   "outputs": [
    {
     "data": {
      "text/html": [
       "<div>\n",
       "<style scoped>\n",
       "    .dataframe tbody tr th:only-of-type {\n",
       "        vertical-align: middle;\n",
       "    }\n",
       "\n",
       "    .dataframe tbody tr th {\n",
       "        vertical-align: top;\n",
       "    }\n",
       "\n",
       "    .dataframe thead th {\n",
       "        text-align: right;\n",
       "    }\n",
       "</style>\n",
       "<table border=\"1\" class=\"dataframe\">\n",
       "  <thead>\n",
       "    <tr style=\"text-align: right;\">\n",
       "      <th></th>\n",
       "      <th>Target</th>\n",
       "      <th>Alias</th>\n",
       "      <th>Gene</th>\n",
       "      <th>Barcode</th>\n",
       "      <th>Filtered</th>\n",
       "      <th>Counts</th>\n",
       "      <th>Corr_Within</th>\n",
       "      <th>Corr_Between</th>\n",
       "      <th>log10Count</th>\n",
       "      <th>Filtered_by_1</th>\n",
       "      <th>Filtered_by_2</th>\n",
       "      <th>Filtered_by_3</th>\n",
       "      <th>Filtered_by_4</th>\n",
       "      <th>Filtered_by_5</th>\n",
       "    </tr>\n",
       "  </thead>\n",
       "  <tbody>\n",
       "    <tr>\n",
       "      <th>1663</th>\n",
       "      <td>T1</td>\n",
       "      <td>MB01</td>\n",
       "      <td>Aars</td>\n",
       "      <td>Aars-1</td>\n",
       "      <td>1</td>\n",
       "      <td>271.0</td>\n",
       "      <td>NaN</td>\n",
       "      <td>NaN</td>\n",
       "      <td>2.432969</td>\n",
       "      <td>True</td>\n",
       "      <td>True</td>\n",
       "      <td>True</td>\n",
       "      <td>True</td>\n",
       "      <td>True</td>\n",
       "    </tr>\n",
       "    <tr>\n",
       "      <th>1664</th>\n",
       "      <td>T1</td>\n",
       "      <td>MB01</td>\n",
       "      <td>Aars</td>\n",
       "      <td>Aars-2</td>\n",
       "      <td>1</td>\n",
       "      <td>584.0</td>\n",
       "      <td>NaN</td>\n",
       "      <td>NaN</td>\n",
       "      <td>2.766413</td>\n",
       "      <td>True</td>\n",
       "      <td>True</td>\n",
       "      <td>True</td>\n",
       "      <td>True</td>\n",
       "      <td>True</td>\n",
       "    </tr>\n",
       "    <tr>\n",
       "      <th>1665</th>\n",
       "      <td>T1</td>\n",
       "      <td>MB01</td>\n",
       "      <td>Aars</td>\n",
       "      <td>Aars-3</td>\n",
       "      <td>1</td>\n",
       "      <td>238.0</td>\n",
       "      <td>NaN</td>\n",
       "      <td>NaN</td>\n",
       "      <td>2.376577</td>\n",
       "      <td>True</td>\n",
       "      <td>True</td>\n",
       "      <td>True</td>\n",
       "      <td>True</td>\n",
       "      <td>True</td>\n",
       "    </tr>\n",
       "    <tr>\n",
       "      <th>1666</th>\n",
       "      <td>T1</td>\n",
       "      <td>MB01</td>\n",
       "      <td>Aars</td>\n",
       "      <td>Aars-4</td>\n",
       "      <td>1</td>\n",
       "      <td>146.0</td>\n",
       "      <td>NaN</td>\n",
       "      <td>NaN</td>\n",
       "      <td>2.164353</td>\n",
       "      <td>True</td>\n",
       "      <td>True</td>\n",
       "      <td>True</td>\n",
       "      <td>True</td>\n",
       "      <td>True</td>\n",
       "    </tr>\n",
       "    <tr>\n",
       "      <th>1667</th>\n",
       "      <td>T1</td>\n",
       "      <td>MB01</td>\n",
       "      <td>Aars</td>\n",
       "      <td>Aars-5</td>\n",
       "      <td>1</td>\n",
       "      <td>246.0</td>\n",
       "      <td>NaN</td>\n",
       "      <td>NaN</td>\n",
       "      <td>2.390935</td>\n",
       "      <td>True</td>\n",
       "      <td>True</td>\n",
       "      <td>True</td>\n",
       "      <td>True</td>\n",
       "      <td>True</td>\n",
       "    </tr>\n",
       "    <tr>\n",
       "      <th>...</th>\n",
       "      <td>...</td>\n",
       "      <td>...</td>\n",
       "      <td>...</td>\n",
       "      <td>...</td>\n",
       "      <td>...</td>\n",
       "      <td>...</td>\n",
       "      <td>...</td>\n",
       "      <td>...</td>\n",
       "      <td>...</td>\n",
       "      <td>...</td>\n",
       "      <td>...</td>\n",
       "      <td>...</td>\n",
       "      <td>...</td>\n",
       "      <td>...</td>\n",
       "    </tr>\n",
       "    <tr>\n",
       "      <th>534291</th>\n",
       "      <td>T3</td>\n",
       "      <td>MB06</td>\n",
       "      <td>Zcchc9</td>\n",
       "      <td>Zcchc9-4</td>\n",
       "      <td>1</td>\n",
       "      <td>575.0</td>\n",
       "      <td>NaN</td>\n",
       "      <td>NaN</td>\n",
       "      <td>2.759668</td>\n",
       "      <td>True</td>\n",
       "      <td>True</td>\n",
       "      <td>True</td>\n",
       "      <td>True</td>\n",
       "      <td>True</td>\n",
       "    </tr>\n",
       "    <tr>\n",
       "      <th>534292</th>\n",
       "      <td>T3</td>\n",
       "      <td>MB06</td>\n",
       "      <td>Zcchc9</td>\n",
       "      <td>Zcchc9-5</td>\n",
       "      <td>1</td>\n",
       "      <td>298.0</td>\n",
       "      <td>NaN</td>\n",
       "      <td>NaN</td>\n",
       "      <td>2.474216</td>\n",
       "      <td>True</td>\n",
       "      <td>True</td>\n",
       "      <td>True</td>\n",
       "      <td>True</td>\n",
       "      <td>True</td>\n",
       "    </tr>\n",
       "    <tr>\n",
       "      <th>536054</th>\n",
       "      <td>T3</td>\n",
       "      <td>MB06</td>\n",
       "      <td>Zfp944</td>\n",
       "      <td>Zfp944-3</td>\n",
       "      <td>1</td>\n",
       "      <td>271.0</td>\n",
       "      <td>NaN</td>\n",
       "      <td>NaN</td>\n",
       "      <td>2.432969</td>\n",
       "      <td>True</td>\n",
       "      <td>True</td>\n",
       "      <td>True</td>\n",
       "      <td>True</td>\n",
       "      <td>True</td>\n",
       "    </tr>\n",
       "    <tr>\n",
       "      <th>536055</th>\n",
       "      <td>T3</td>\n",
       "      <td>MB06</td>\n",
       "      <td>Zfp944</td>\n",
       "      <td>Zfp944-4</td>\n",
       "      <td>1</td>\n",
       "      <td>802.0</td>\n",
       "      <td>NaN</td>\n",
       "      <td>NaN</td>\n",
       "      <td>2.904174</td>\n",
       "      <td>True</td>\n",
       "      <td>True</td>\n",
       "      <td>True</td>\n",
       "      <td>True</td>\n",
       "      <td>True</td>\n",
       "    </tr>\n",
       "    <tr>\n",
       "      <th>536056</th>\n",
       "      <td>T3</td>\n",
       "      <td>MB06</td>\n",
       "      <td>Zfp944</td>\n",
       "      <td>Zfp944-5</td>\n",
       "      <td>1</td>\n",
       "      <td>348.0</td>\n",
       "      <td>NaN</td>\n",
       "      <td>NaN</td>\n",
       "      <td>2.541579</td>\n",
       "      <td>True</td>\n",
       "      <td>True</td>\n",
       "      <td>True</td>\n",
       "      <td>True</td>\n",
       "      <td>True</td>\n",
       "    </tr>\n",
       "  </tbody>\n",
       "</table>\n",
       "<p>2704 rows × 14 columns</p>\n",
       "</div>"
      ],
      "text/plain": [
       "       Target Alias    Gene   Barcode  Filtered  Counts  Corr_Within  \\\n",
       "1663       T1  MB01    Aars    Aars-1         1   271.0          NaN   \n",
       "1664       T1  MB01    Aars    Aars-2         1   584.0          NaN   \n",
       "1665       T1  MB01    Aars    Aars-3         1   238.0          NaN   \n",
       "1666       T1  MB01    Aars    Aars-4         1   146.0          NaN   \n",
       "1667       T1  MB01    Aars    Aars-5         1   246.0          NaN   \n",
       "...       ...   ...     ...       ...       ...     ...          ...   \n",
       "534291     T3  MB06  Zcchc9  Zcchc9-4         1   575.0          NaN   \n",
       "534292     T3  MB06  Zcchc9  Zcchc9-5         1   298.0          NaN   \n",
       "536054     T3  MB06  Zfp944  Zfp944-3         1   271.0          NaN   \n",
       "536055     T3  MB06  Zfp944  Zfp944-4         1   802.0          NaN   \n",
       "536056     T3  MB06  Zfp944  Zfp944-5         1   348.0          NaN   \n",
       "\n",
       "        Corr_Between  log10Count  Filtered_by_1  Filtered_by_2  Filtered_by_3  \\\n",
       "1663             NaN    2.432969           True           True           True   \n",
       "1664             NaN    2.766413           True           True           True   \n",
       "1665             NaN    2.376577           True           True           True   \n",
       "1666             NaN    2.164353           True           True           True   \n",
       "1667             NaN    2.390935           True           True           True   \n",
       "...              ...         ...            ...            ...            ...   \n",
       "534291           NaN    2.759668           True           True           True   \n",
       "534292           NaN    2.474216           True           True           True   \n",
       "536054           NaN    2.432969           True           True           True   \n",
       "536055           NaN    2.904174           True           True           True   \n",
       "536056           NaN    2.541579           True           True           True   \n",
       "\n",
       "        Filtered_by_4  Filtered_by_5  \n",
       "1663             True           True  \n",
       "1664             True           True  \n",
       "1665             True           True  \n",
       "1666             True           True  \n",
       "1667             True           True  \n",
       "...               ...            ...  \n",
       "534291           True           True  \n",
       "534292           True           True  \n",
       "536054           True           True  \n",
       "536055           True           True  \n",
       "536056           True           True  \n",
       "\n",
       "[2704 rows x 14 columns]"
      ]
     },
     "execution_count": 22,
     "metadata": {},
     "output_type": "execute_result"
    }
   ],
   "source": [
    "df[df[\"Gene\"].isin(genes_to_checkSD30)]"
   ]
  }
 ],
 "metadata": {
  "kernelspec": {
   "display_name": "Python 3.9.13 ('MUSICian')",
   "language": "python",
   "name": "python3"
  },
  "language_info": {
   "codemirror_mode": {
    "name": "ipython",
    "version": 3
   },
   "file_extension": ".py",
   "mimetype": "text/x-python",
   "name": "python",
   "nbconvert_exporter": "python",
   "pygments_lexer": "ipython3",
   "version": "3.9.13"
  },
  "orig_nbformat": 4,
  "vscode": {
   "interpreter": {
    "hash": "428a601510a5f32e3d3b942ab75f6ba62837b2d513da56945220e688e5061952"
   }
  }
 },
 "nbformat": 4,
 "nbformat_minor": 2
}
