{
 "cells": [
  {
   "cell_type": "markdown",
   "metadata": {},
   "source": [
    "# Ranked Outcomes\n",
    "\n",
    "This small workbook takes each set of outcomes across all genes for one target sequeunce and ranks them either according to their average frequency and standard deviation across all genes. The main outcome of this workbook shows that ranking by frequency or standard deviation doesn't really affect the ranking, so we can use either when filtering the outcomes to be informative.\n",
    "\n",
    "Later will need to return to this workbook when we have choosen a better categorisation strategy."
   ]
  },
  {
   "cell_type": "code",
   "execution_count": 1,
   "metadata": {},
   "outputs": [],
   "source": [
    "# OPTIONAL: Load the \"autoreload\" extension so that code can change\n",
    "%load_ext autoreload\n",
    "\n",
    "# OPTIONAL: always reload modules so that as you change code in src, it gets loaded\n",
    "%autoreload 2\n",
    "\n",
    "import sqlite3\n",
    "from src.config import get_db_file, get_hussmann_supplementary_xlsx\n",
    "import pandas as pd\n",
    "import numpy as np\n",
    "import seaborn as sns\n",
    "import matplotlib.pyplot as plt"
   ]
  },
  {
   "cell_type": "code",
   "execution_count": 2,
   "metadata": {},
   "outputs": [
    {
     "name": "stdout",
     "output_type": "stream",
     "text": [
      "loaded outcomes\n",
      "                                                          fraction_per_barcode\n",
      "Alias Gene          Barcode         outcome                                   \n",
      "MB01  0610009B22Rik 0610009B22Rik-1 DELETION|-10|0||0bp               0.001243\n",
      "                                    DELETION|-10|19||1bp              0.000355\n",
      "We have 86569 unique barcodes covering 18363 genes, producing 514242 outcomes\n"
     ]
    }
   ],
   "source": [
    "con = sqlite3.connect(get_db_file())\n",
    "df = pd.read_sql_query('select Barcode, Gene, Alias, outcome, fraction_per_barcode from outcomes where Alias is \"MB01\"', con)\n",
    "df_idx = df.set_index([\"Alias\", \"Gene\", \"Barcode\", \"outcome\"])\n",
    "print(\"loaded outcomes\")\n",
    "print(df_idx.head(2))\n",
    "\n",
    "num_genes = df_idx.index.get_level_values(\"Gene\").unique().shape[0]\n",
    "num_barcodes = df_idx.index.get_level_values(\"Barcode\").unique().shape[0]\n",
    "num_outcomes = df_idx.index.get_level_values(\"outcome\").unique().shape[0]\n",
    "\n",
    "print(\"We have {} unique barcodes covering {} genes, producing {} outcomes\".format(num_barcodes, num_genes, num_outcomes))"
   ]
  },
  {
   "cell_type": "code",
   "execution_count": 3,
   "metadata": {},
   "outputs": [
    {
     "name": "stderr",
     "output_type": "stream",
     "text": [
      "/var/folders/5x/n2td64g918lgvdh3qm2x3bhc0000gn/T/ipykernel_25893/2412254448.py:2: FutureWarning: Using the level keyword in DataFrame and Series aggregations is deprecated and will be removed in a future version. Use groupby instead. df.sum(level=1) should use df.groupby(level=1).sum().\n",
      "  totals = df_idx_norm_mean[[\"fraction_per_barcode\"]].sum(level=\"Gene\")\n"
     ]
    },
    {
     "name": "stdout",
     "output_type": "stream",
     "text": [
      "Normalised per Gene\n"
     ]
    },
    {
     "name": "stderr",
     "output_type": "stream",
     "text": [
      "/var/folders/5x/n2td64g918lgvdh3qm2x3bhc0000gn/T/ipykernel_25893/2412254448.py:15: FutureWarning: Using the level keyword in DataFrame and Series aggregations is deprecated and will be removed in a future version. Use groupby instead. df.sum(level=1) should use df.groupby(level=1).sum().\n",
      "  totals = df_idx_norm_mean_reduced[[\"fraction_per_barcode\"]].sum(level=\"Gene\")\n"
     ]
    },
    {
     "name": "stdout",
     "output_type": "stream",
     "text": [
      "Normalised frequent outcomes\n",
      "outcome        DELETION|-10|2||1bp  DELETION|-10|5||3bp  DELETION|-10|6||2bp\n",
      "Gene                                                                        \n",
      "0610009b22rik             0.003722             0.006112             0.002530\n",
      "0610010k14rik             0.004118             0.004862             0.004695\n",
      "Repair outcome profiles created\n"
     ]
    }
   ],
   "source": [
    "df_idx_norm_mean = df_idx.groupby(level=[\"Alias\", \"Gene\", \"outcome\"]).mean()\n",
    "totals = df_idx_norm_mean[[\"fraction_per_barcode\"]].sum(level=\"Gene\")\n",
    "df_idx_norm_mean = df_idx_norm_mean[[\"fraction_per_barcode\"]].div(totals, level=\"Gene\").droplevel(level=\"Alias\")\n",
    "print(\"Normalised per Gene\")\n",
    "# print(df_idx_norm_mean.head(2))\n",
    "\n",
    "BASELINE_FREQUENCY = 0.002\n",
    "frequent_outcomes = (df_idx_norm_mean.groupby(\"outcome\").sum().div(num_genes)) > BASELINE_FREQUENCY\n",
    "frequent_outcomes = frequent_outcomes[frequent_outcomes[\"fraction_per_barcode\"]]\n",
    "frequent_outcomes = frequent_outcomes.index\n",
    "frequent_outcomes\n",
    "\n",
    "\n",
    "df_idx_norm_mean_reduced = df_idx_norm_mean.loc[df_idx_norm_mean.index.get_level_values(\"outcome\").isin(frequent_outcomes)]\n",
    "totals = df_idx_norm_mean_reduced[[\"fraction_per_barcode\"]].sum(level=\"Gene\")\n",
    "df_idx_norm_mean_reduced = df_idx_norm_mean_reduced[[\"fraction_per_barcode\"]].div(totals, level=\"Gene\")\n",
    "print(\"Normalised frequent outcomes\")\n",
    "# print(df_idx_norm_mean_reduced.head(2))\n",
    "\n",
    "df_outcome_profiles = df_idx_norm_mean_reduced.reset_index().pivot(index=[\"Gene\"], columns=\"outcome\", values=\"fraction_per_barcode\").fillna(0)\n",
    "df_outcome_profiles.index = df_outcome_profiles.index.str.lower()\n",
    "print(df_outcome_profiles.iloc[:2, :3])\n",
    "print(\"Repair outcome profiles created\")"
   ]
  },
  {
   "cell_type": "code",
   "execution_count": 4,
   "metadata": {},
   "outputs": [
    {
     "data": {
      "text/html": [
       "<div>\n",
       "<style scoped>\n",
       "    .dataframe tbody tr th:only-of-type {\n",
       "        vertical-align: middle;\n",
       "    }\n",
       "\n",
       "    .dataframe tbody tr th {\n",
       "        vertical-align: top;\n",
       "    }\n",
       "\n",
       "    .dataframe thead th {\n",
       "        text-align: right;\n",
       "    }\n",
       "</style>\n",
       "<table border=\"1\" class=\"dataframe\">\n",
       "  <thead>\n",
       "    <tr style=\"text-align: right;\">\n",
       "      <th></th>\n",
       "      <th>fraction_per_barcode</th>\n",
       "    </tr>\n",
       "    <tr>\n",
       "      <th>outcome</th>\n",
       "      <th></th>\n",
       "    </tr>\n",
       "  </thead>\n",
       "  <tbody>\n",
       "    <tr>\n",
       "      <th>DELETION|-10|-1||3bp</th>\n",
       "      <td>0.001060</td>\n",
       "    </tr>\n",
       "    <tr>\n",
       "      <th>DELETION|-10|0||0bp</th>\n",
       "      <td>0.001116</td>\n",
       "    </tr>\n",
       "    <tr>\n",
       "      <th>DELETION|-10|100||0bp</th>\n",
       "      <td>0.000014</td>\n",
       "    </tr>\n",
       "    <tr>\n",
       "      <th>DELETION|-10|102||0bp</th>\n",
       "      <td>0.000020</td>\n",
       "    </tr>\n",
       "    <tr>\n",
       "      <th>DELETION|-10|103||0bp</th>\n",
       "      <td>0.000015</td>\n",
       "    </tr>\n",
       "  </tbody>\n",
       "</table>\n",
       "</div>"
      ],
      "text/plain": [
       "                       fraction_per_barcode\n",
       "outcome                                    \n",
       "DELETION|-10|-1||3bp               0.001060\n",
       "DELETION|-10|0||0bp                0.001116\n",
       "DELETION|-10|100||0bp              0.000014\n",
       "DELETION|-10|102||0bp              0.000020\n",
       "DELETION|-10|103||0bp              0.000015"
      ]
     },
     "execution_count": 4,
     "metadata": {},
     "output_type": "execute_result"
    }
   ],
   "source": [
    "all_means = df_idx_norm_mean.groupby(\"outcome\").sum().div(num_genes)\n",
    "df_idx_norm_deviation = df_idx_norm_mean.subtract(all_means, level=\"outcome\")\n",
    "df_idx_norm_deviation_sqrd = df_idx_norm_deviation.pow(2)\n",
    "df_idx_norm_deviation_sqrd_summed = df_idx_norm_deviation_sqrd.groupby(\"outcome\").sum()\n",
    "df_idx_norm_deviation_var = df_idx_norm_deviation_sqrd_summed.div(num_genes)\n",
    "df_idx_norm_sd = np.sqrt(df_idx_norm_deviation_var)\n",
    "df_idx_norm_sd.head()"
   ]
  },
  {
   "cell_type": "code",
   "execution_count": 5,
   "metadata": {},
   "outputs": [
    {
     "data": {
      "text/plain": [
       "<AxesSubplot:xlabel='rank', ylabel='fraction_per_barcode'>"
      ]
     },
     "execution_count": 5,
     "metadata": {},
     "output_type": "execute_result"
    },
    {
     "data": {
      "image/png": "[encoded data removed]",
      "text/plain": [
       "<Figure size 640x480 with 1 Axes>"
      ]
     },
     "metadata": {},
     "output_type": "display_data"
    }
   ],
   "source": [
    "sd_plot = df_idx_norm_sd.sort_values(by=\"fraction_per_barcode\", ascending=False).reset_index().head(50)\n",
    "sd_plot[\"rank\"] = list(sd_plot.index)\n",
    "sns.lineplot(data=sd_plot, y=\"fraction_per_barcode\", x=\"rank\")"
   ]
  },
  {
   "cell_type": "code",
   "execution_count": 6,
   "metadata": {},
   "outputs": [
    {
     "data": {
      "text/plain": [
       "(10,)"
      ]
     },
     "execution_count": 6,
     "metadata": {},
     "output_type": "execute_result"
    }
   ],
   "source": [
    "variable_outcomes = sd_plot.head(10)[\"outcome\"]\n",
    "np.intersect1d(frequent_outcomes, variable_outcomes).shape"
   ]
  }
 ],
 "metadata": {
  "kernelspec": {
   "display_name": "Python 3.9.13 ('MUSICian')",
   "language": "python",
   "name": "python3"
  },
  "language_info": {
   "codemirror_mode": {
    "name": "ipython",
    "version": 3
   },
   "file_extension": ".py",
   "mimetype": "text/x-python",
   "name": "python",
   "nbconvert_exporter": "python",
   "pygments_lexer": "ipython3",
   "version": "3.9.13"
  },
  "orig_nbformat": 4,
  "vscode": {
   "interpreter": {
    "hash": "428a601510a5f32e3d3b942ab75f6ba62837b2d513da56945220e688e5061952"
   }
  }
 },
 "nbformat": 4,
 "nbformat_minor": 2
}
