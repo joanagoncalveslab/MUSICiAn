{
 "cells": [
  {
   "cell_type": "code",
   "execution_count": 1,
   "metadata": {},
   "outputs": [],
   "source": [
    "import pandas as pd\n",
    "import numpy as np\n",
    "from src.config import get_common_barcodes, get_interim_dir, get_hussmann_supplementary_xlsx, HOME_PATH"
   ]
  },
  {
   "cell_type": "code",
   "execution_count": 2,
   "metadata": {},
   "outputs": [
    {
     "data": {
      "text/html": [
       "<div>\n",
       "<style scoped>\n",
       "    .dataframe tbody tr th:only-of-type {\n",
       "        vertical-align: middle;\n",
       "    }\n",
       "\n",
       "    .dataframe tbody tr th {\n",
       "        vertical-align: top;\n",
       "    }\n",
       "\n",
       "    .dataframe thead th {\n",
       "        text-align: right;\n",
       "    }\n",
       "</style>\n",
       "<table border=\"1\" class=\"dataframe\">\n",
       "  <thead>\n",
       "    <tr style=\"text-align: right;\">\n",
       "      <th></th>\n",
       "      <th>Target</th>\n",
       "      <th>Alias</th>\n",
       "      <th>Gene</th>\n",
       "      <th>Barcode</th>\n",
       "      <th>Filtered</th>\n",
       "      <th>Counts</th>\n",
       "      <th>Corr_Within</th>\n",
       "      <th>Corr_Between</th>\n",
       "    </tr>\n",
       "  </thead>\n",
       "  <tbody>\n",
       "    <tr>\n",
       "      <th>0</th>\n",
       "      <td>T1</td>\n",
       "      <td>MB01</td>\n",
       "      <td>0610009B22Rik</td>\n",
       "      <td>0610009B22Rik-1</td>\n",
       "      <td>0</td>\n",
       "      <td>2247.0</td>\n",
       "      <td>0.802124</td>\n",
       "      <td>0.719819</td>\n",
       "    </tr>\n",
       "    <tr>\n",
       "      <th>1</th>\n",
       "      <td>T1</td>\n",
       "      <td>MB01</td>\n",
       "      <td>0610009B22Rik</td>\n",
       "      <td>0610009B22Rik-2</td>\n",
       "      <td>0</td>\n",
       "      <td>2792.0</td>\n",
       "      <td>0.861144</td>\n",
       "      <td>0.841499</td>\n",
       "    </tr>\n",
       "    <tr>\n",
       "      <th>2</th>\n",
       "      <td>T1</td>\n",
       "      <td>MB01</td>\n",
       "      <td>0610009B22Rik</td>\n",
       "      <td>0610009B22Rik-3</td>\n",
       "      <td>0</td>\n",
       "      <td>3907.0</td>\n",
       "      <td>0.894923</td>\n",
       "      <td>0.900597</td>\n",
       "    </tr>\n",
       "    <tr>\n",
       "      <th>3</th>\n",
       "      <td>T1</td>\n",
       "      <td>MB01</td>\n",
       "      <td>0610009B22Rik</td>\n",
       "      <td>0610009B22Rik-4</td>\n",
       "      <td>0</td>\n",
       "      <td>3757.0</td>\n",
       "      <td>0.886405</td>\n",
       "      <td>0.779313</td>\n",
       "    </tr>\n",
       "    <tr>\n",
       "      <th>4</th>\n",
       "      <td>T1</td>\n",
       "      <td>MB01</td>\n",
       "      <td>0610009B22Rik</td>\n",
       "      <td>0610009B22Rik-5</td>\n",
       "      <td>0</td>\n",
       "      <td>2549.0</td>\n",
       "      <td>0.920184</td>\n",
       "      <td>0.844981</td>\n",
       "    </tr>\n",
       "  </tbody>\n",
       "</table>\n",
       "</div>"
      ],
      "text/plain": [
       "  Target Alias           Gene          Barcode  Filtered  Counts  Corr_Within  \\\n",
       "0     T1  MB01  0610009B22Rik  0610009B22Rik-1         0  2247.0     0.802124   \n",
       "1     T1  MB01  0610009B22Rik  0610009B22Rik-2         0  2792.0     0.861144   \n",
       "2     T1  MB01  0610009B22Rik  0610009B22Rik-3         0  3907.0     0.894923   \n",
       "3     T1  MB01  0610009B22Rik  0610009B22Rik-4         0  3757.0     0.886405   \n",
       "4     T1  MB01  0610009B22Rik  0610009B22Rik-5         0  2549.0     0.920184   \n",
       "\n",
       "   Corr_Between  \n",
       "0      0.719819  \n",
       "1      0.841499  \n",
       "2      0.900597  \n",
       "3      0.779313  \n",
       "4      0.844981  "
      ]
     },
     "execution_count": 2,
     "metadata": {},
     "output_type": "execute_result"
    }
   ],
   "source": [
    "filtered_barcodes = pd.read_csv(get_common_barcodes(), sep=\"\\t\")\n",
    "filtered_barcodes.head()"
   ]
  },
  {
   "cell_type": "code",
   "execution_count": 3,
   "metadata": {},
   "outputs": [
    {
     "data": {
      "text/plain": [
       "2468.9464822704062"
      ]
     },
     "execution_count": 3,
     "metadata": {},
     "output_type": "execute_result"
    }
   ],
   "source": [
    "filtered_barcodes.groupby([\"Target\", \"Alias\"]).mean()[\"Counts\"].mean()"
   ]
  },
  {
   "cell_type": "code",
   "execution_count": 4,
   "metadata": {},
   "outputs": [
    {
     "data": {
      "text/plain": [
       "Target  Alias\n",
       "T1      MB01     60975\n",
       "        MB02     63347\n",
       "T2      MB03     79401\n",
       "        MB04     80646\n",
       "T3      MB05     78675\n",
       "        MB06     78037\n",
       "dtype: int64"
      ]
     },
     "execution_count": 4,
     "metadata": {},
     "output_type": "execute_result"
    }
   ],
   "source": [
    "filtered_barcodes[~filtered_barcodes[\"Filtered\"].isin([1, 2, 3, 4]) ].groupby([\"Target\", \"Alias\"]).size()"
   ]
  },
  {
   "cell_type": "code",
   "execution_count": 5,
   "metadata": {},
   "outputs": [
    {
     "data": {
      "text/plain": [
       "Target  Alias\n",
       "T1      MB01     17130\n",
       "        MB02     17251\n",
       "T2      MB03     18090\n",
       "        MB04     18144\n",
       "T3      MB05     18134\n",
       "        MB06     18095\n",
       "dtype: int64"
      ]
     },
     "execution_count": 5,
     "metadata": {},
     "output_type": "execute_result"
    }
   ],
   "source": [
    "filtered_barcodes[~filtered_barcodes[\"Filtered\"].isin([1, 2, 3]) ].groupby([\"Target\", \"Alias\", \"Gene\"]).sum().groupby([\"Target\", \"Alias\"]).size()"
   ]
  },
  {
   "cell_type": "code",
   "execution_count": 6,
   "metadata": {},
   "outputs": [
    {
     "data": {
      "text/plain": [
       "89571"
      ]
     },
     "execution_count": 6,
     "metadata": {},
     "output_type": "execute_result"
    }
   ],
   "source": [
    "filtered_barcodes[\"Barcode\"].nunique()"
   ]
  },
  {
   "cell_type": "code",
   "execution_count": 7,
   "metadata": {},
   "outputs": [
    {
     "data": {
      "text/plain": [
       "18406"
      ]
     },
     "execution_count": 7,
     "metadata": {},
     "output_type": "execute_result"
    }
   ],
   "source": [
    "filtered_barcodes[\"Gene\"].nunique()"
   ]
  },
  {
   "cell_type": "code",
   "execution_count": 8,
   "metadata": {},
   "outputs": [
    {
     "data": {
      "text/plain": [
       "18220"
      ]
     },
     "execution_count": 8,
     "metadata": {},
     "output_type": "execute_result"
    }
   ],
   "source": [
    "filtered_barcodes[filtered_barcodes[\"Filtered\"].isin([0, 5])][\"Gene\"].nunique()"
   ]
  },
  {
   "cell_type": "code",
   "execution_count": 9,
   "metadata": {},
   "outputs": [
    {
     "data": {
      "text/plain": [
       "Target  Alias\n",
       "T1      MB01     60975\n",
       "        MB02     63347\n",
       "T2      MB03     79401\n",
       "        MB04     80646\n",
       "T3      MB05     78675\n",
       "        MB06     78037\n",
       "dtype: int64"
      ]
     },
     "execution_count": 9,
     "metadata": {},
     "output_type": "execute_result"
    }
   ],
   "source": [
    "filtered_barcodes[filtered_barcodes[\"Filtered\"].isin([0, 5])].groupby([\"Target\", \"Alias\"]).size()"
   ]
  },
  {
   "cell_type": "code",
   "execution_count": 10,
   "metadata": {},
   "outputs": [
    {
     "data": {
      "text/plain": [
       "Target  Alias\n",
       "T1      MB01     17004\n",
       "        MB02     17135\n",
       "T2      MB03     18089\n",
       "        MB04     18140\n",
       "T3      MB05     18133\n",
       "        MB06     18092\n",
       "dtype: int64"
      ]
     },
     "execution_count": 10,
     "metadata": {},
     "output_type": "execute_result"
    }
   ],
   "source": [
    "filtered_barcodes[filtered_barcodes[\"Filtered\"].isin([0, 5])].groupby([\"Target\", \"Alias\", \"Gene\"]).sum().groupby([\"Target\", \"Alias\"]).size()"
   ]
  },
  {
   "cell_type": "code",
   "execution_count": 11,
   "metadata": {},
   "outputs": [
    {
     "data": {
      "text/plain": [
       "Alias\n",
       "MB01    1404\n",
       "MB02    1270\n",
       "MB03     375\n",
       "MB04     327\n",
       "MB05     281\n",
       "MB06     322\n",
       "Name: Excluded, dtype: int64"
      ]
     },
     "execution_count": 11,
     "metadata": {},
     "output_type": "execute_result"
    }
   ],
   "source": [
    "filtered_barcodes[\"Excluded\"] = filtered_barcodes[\"Filtered\"] > 0\n",
    "excluded_genes = filtered_barcodes.groupby([\"Alias\", \"Gene\"]).all()[\"Excluded\"]\n",
    "excluded_genes = excluded_genes[excluded_genes]\n",
    "excluded_genes.groupby(\"Alias\").sum()"
   ]
  },
  {
   "cell_type": "code",
   "execution_count": 12,
   "metadata": {},
   "outputs": [
    {
     "data": {
      "text/plain": [
       "0    60960\n",
       "1    14196\n",
       "3     9954\n",
       "4     3725\n",
       "2      564\n",
       "5       15\n",
       "Name: Filtered, dtype: int64"
      ]
     },
     "execution_count": 12,
     "metadata": {},
     "output_type": "execute_result"
    }
   ],
   "source": [
    "filtered_barcodes[filtered_barcodes[\"Alias\"] == \"MB01\"][\"Filtered\"].value_counts()"
   ]
  },
  {
   "cell_type": "code",
   "execution_count": 13,
   "metadata": {},
   "outputs": [],
   "source": [
    "genesubset2 = pd.read_csv(HOME_PATH + \"/repos/MUSICian/src/data/GeneSubset2.txt\", sep=\"\\t\")[\"Gene\"]"
   ]
  },
  {
   "cell_type": "code",
   "execution_count": 14,
   "metadata": {},
   "outputs": [
    {
     "name": "stdout",
     "output_type": "stream",
     "text": [
      "['H2afx', 'H2afx', 'Rad54']\n"
     ]
    }
   ],
   "source": [
    "print(sorted(genesubset2[~np.isin(genesubset2, filtered_barcodes[\"Gene\"].str.capitalize())]))"
   ]
  },
  {
   "cell_type": "code",
   "execution_count": 15,
   "metadata": {},
   "outputs": [
    {
     "data": {
      "text/plain": [
       "['H2ab2',\n",
       " 'H2ab3',\n",
       " 'H2ac1',\n",
       " 'H2ac15',\n",
       " 'H2ac18',\n",
       " 'H2ac21',\n",
       " 'H2ac4',\n",
       " 'H2ac6',\n",
       " 'H2aj',\n",
       " 'H2al1j',\n",
       " 'H2al1m',\n",
       " 'H2al1n',\n",
       " 'H2al1o',\n",
       " 'H2al2a',\n",
       " 'H2al2b',\n",
       " 'H2al3',\n",
       " 'H2ap',\n",
       " 'H2aw',\n",
       " 'H2ax',\n",
       " 'H2az1',\n",
       " 'H2az2',\n",
       " 'Macroh2a1',\n",
       " 'Macroh2a2',\n",
       " 'Rnaseh2a',\n",
       " 'Ush2a']"
      ]
     },
     "execution_count": 15,
     "metadata": {},
     "output_type": "execute_result"
    }
   ],
   "source": [
    "sorted(filtered_barcodes[\"Gene\"][filtered_barcodes[\"Gene\"].str.lower().str.contains(\"h2a\")].unique())"
   ]
  }
 ],
 "metadata": {
  "kernelspec": {
   "display_name": "Python 3.9.13 ('MUSICian')",
   "language": "python",
   "name": "python3"
  },
  "language_info": {
   "codemirror_mode": {
    "name": "ipython",
    "version": 3
   },
   "file_extension": ".py",
   "mimetype": "text/x-python",
   "name": "python",
   "nbconvert_exporter": "python",
   "pygments_lexer": "ipython3",
   "version": "3.9.13"
  },
  "orig_nbformat": 4,
  "vscode": {
   "interpreter": {
    "hash": "428a601510a5f32e3d3b942ab75f6ba62837b2d513da56945220e688e5061952"
   }
  }
 },
 "nbformat": 4,
 "nbformat_minor": 2
}
