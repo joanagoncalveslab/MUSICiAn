{
 "cells": [
  {
   "cell_type": "code",
   "execution_count": 5,
   "metadata": {},
   "outputs": [],
   "source": [
    "import pandas as pd\n",
    "\n",
    "bugged = pd.read_csv(\"./artifacts/final_gene_list_bugged.tsv\", sep=\"\\t\")\n",
    "bugged = bugged.iloc[1:,:].set_index(\"Sample\").loc[:,\"Overall.1\"].iloc[1:].dropna()\n",
    "bugged.index.name = \"Gene\"\n",
    "correct = pd.read_csv(\"./artifacts/final_gene_list.tsv\", sep=\"\\t\")\n",
    "correct = correct.iloc[1:,:].set_index(\"Sample\").loc[:,\"Overall.1\"].iloc[1:].dropna()\n",
    "correct.index.name = \"Gene\""
   ]
  },
  {
   "cell_type": "code",
   "execution_count": 6,
   "metadata": {},
   "outputs": [
    {
     "name": "stderr",
     "output_type": "stream",
     "text": [
      "/Users/colm/anaconda3/envs/MUSICian/lib/python3.9/site-packages/scipy/stats/_stats_py.py:110: RuntimeWarning: The input array could not be properly checked for nan values. nan values will be ignored.\n",
      "  warnings.warn(\"The input array could not be properly \"\n"
     ]
    },
    {
     "data": {
      "text/plain": [
       "SpearmanrResult(correlation=0.994251877239428, pvalue=0.0)"
      ]
     },
     "execution_count": 6,
     "metadata": {},
     "output_type": "execute_result"
    }
   ],
   "source": [
    "from scipy.stats import spearmanr\n",
    "spearmanr(correct, bugged.loc[correct.index])"
   ]
  },
  {
   "cell_type": "code",
   "execution_count": 7,
   "metadata": {},
   "outputs": [
    {
     "data": {
      "text/plain": [
       "SpearmanrResult(correlation=0.9897797991191963, pvalue=0.0)"
      ]
     },
     "execution_count": 7,
     "metadata": {},
     "output_type": "execute_result"
    }
   ],
   "source": [
    "spearmanr(correct[:500], bugged.loc[correct[:500].index])"
   ]
  },
  {
   "cell_type": "code",
   "execution_count": 10,
   "metadata": {},
   "outputs": [
    {
     "data": {
      "text/plain": [
       "0.9935162835148502"
      ]
     },
     "execution_count": 10,
     "metadata": {},
     "output_type": "execute_result"
    }
   ],
   "source": [
    "import rbo\n",
    "rbo.RankingSimilarity(correct.values[:500], bugged.loc[correct.index].values[:500]).rbo()\n"
   ]
  }
 ],
 "metadata": {
  "kernelspec": {
   "display_name": "MUSICian",
   "language": "python",
   "name": "python3"
  },
  "language_info": {
   "codemirror_mode": {
    "name": "ipython",
    "version": 3
   },
   "file_extension": ".py",
   "mimetype": "text/x-python",
   "name": "python",
   "nbconvert_exporter": "python",
   "pygments_lexer": "ipython3",
   "version": "3.9.13"
  },
  "orig_nbformat": 4,
  "vscode": {
   "interpreter": {
    "hash": "428a601510a5f32e3d3b942ab75f6ba62837b2d513da56945220e688e5061952"
   }
  }
 },
 "nbformat": 4,
 "nbformat_minor": 2
}
