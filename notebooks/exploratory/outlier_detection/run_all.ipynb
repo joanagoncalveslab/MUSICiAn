{
 "cells": [
  {
   "cell_type": "code",
   "execution_count": 1,
   "metadata": {},
   "outputs": [],
   "source": [
    "%load_ext src.skip_kernel_extension"
   ]
  },
  {
   "cell_type": "code",
   "execution_count": 2,
   "metadata": {},
   "outputs": [
    {
     "name": "stdout",
     "output_type": "stream",
     "text": [
      "paired-replicates 700 robust_cov\n"
     ]
    }
   ],
   "source": [
    "from src.config import PROFILE_TYPE, PAIRED_SAMPLES, TARGETDIFF, FILTER_COUNT, METHOD\n",
    "\n",
    "print(PROFILE_TYPE, FILTER_COUNT, METHOD)"
   ]
  },
  {
   "cell_type": "code",
   "execution_count": 3,
   "metadata": {},
   "outputs": [
    {
     "data": {
      "text/plain": [
       "False"
      ]
     },
     "execution_count": 3,
     "metadata": {},
     "output_type": "execute_result"
    }
   ],
   "source": [
    "PROFILE_TYPE not in [PAIRED_SAMPLES]\n",
    "should_skip = PROFILE_TYPE not in [PAIRED_SAMPLES]\n",
    "should_skip"
   ]
  },
  {
   "cell_type": "code",
   "execution_count": 4,
   "metadata": {},
   "outputs": [],
   "source": [
    "%%capture\n",
    "%run 1a_outlier_analysis_samplewise_bulk.ipynb\n",
    "%run 1a_outlier_analysis_targetwise_bulk.ipynb"
   ]
  },
  {
   "cell_type": "code",
   "execution_count": 5,
   "metadata": {},
   "outputs": [],
   "source": [
    "%%capture\n",
    "%%skip $should_skip\n",
    "\n",
    "%run 1b_outlier_analysis_targetwisediff_bulk.ipynb"
   ]
  },
  {
   "cell_type": "code",
   "execution_count": 9,
   "metadata": {},
   "outputs": [],
   "source": [
    "%%capture\n",
    "%run 2a_outlier_results_augmented.ipynb\n",
    "%run 3a_outlier_goea.ipynb"
   ]
  },
  {
   "cell_type": "code",
   "execution_count": 10,
   "metadata": {},
   "outputs": [],
   "source": [
    "%%capture\n",
    "%run 4a_ranking.ipynb"
   ]
  },
  {
   "cell_type": "code",
   "execution_count": 11,
   "metadata": {},
   "outputs": [],
   "source": [
    "%%capture\n",
    "%%skip $should_skip\n",
    "%run 4b_outlier_hierarchical_clustering.ipynb\n",
    "%run 4c_outlier_gene_comparisons.ipynb\n",
    "%run 5a_final_outlier_list.ipynb\n",
    "%run 5b_consistency_analysis.ipynb"
   ]
  },
  {
   "cell_type": "code",
   "execution_count": 12,
   "metadata": {},
   "outputs": [
    {
     "name": "stdout",
     "output_type": "stream",
     "text": [
      "Done.\n"
     ]
    }
   ],
   "source": [
    "print(\"Done.\")"
   ]
  }
 ],
 "metadata": {
  "kernelspec": {
   "display_name": "Python 3.9.13 ('MUSICian')",
   "language": "python",
   "name": "python3"
  },
  "language_info": {
   "codemirror_mode": {
    "name": "ipython",
    "version": 3
   },
   "file_extension": ".py",
   "mimetype": "text/x-python",
   "name": "python",
   "nbconvert_exporter": "python",
   "pygments_lexer": "ipython3",
   "version": "3.9.13"
  },
  "orig_nbformat": 4,
  "vscode": {
   "interpreter": {
    "hash": "428a601510a5f32e3d3b942ab75f6ba62837b2d513da56945220e688e5061952"
   }
  }
 },
 "nbformat": 4,
 "nbformat_minor": 2
}
