{
 "cells": [
  {
   "cell_type": "markdown",
   "metadata": {},
   "source": [
    "3 properties of compositional data:\n",
    "\n",
    "- Scale invariance: (0.1, 0.9) <=> (10, 90)\n",
    "- Subcompositional consistency : Patterns observed within subsets of composition are in harmony with those observed in the overall composition\n",
    "- Permutation invariance: order of parts should not matter"
   ]
  },
  {
   "cell_type": "markdown",
   "metadata": {},
   "source": [
    "General approach to analysing compositional data:\n",
    "\n",
    "- Choose an appropriate method to handle zeros.\n",
    "- ALR / CLR transform the data\n",
    "\n",
    "ALR is assymmetric with respect to which part is used as the denominator. Also, not isometric transformation. Isometric transformations are when the space between objects in a space is maintained.\n",
    "CLR is and isometric, but still suffers from a sum-to-zero constraint, which makes it hard to apply linear analysis techniques. "
   ]
  },
  {
   "cell_type": "markdown",
   "metadata": {},
   "source": [
    "Power transformation and perturbation:\n",
    "\n",
    "If you multiply to vectors in the simplex, or divide all the components by the sum of the components and scale them, the vector still exists in the simplex"
   ]
  },
  {
   "cell_type": "markdown",
   "metadata": {},
   "source": [
    "The simplex is a (D-1)-dimensional Hilbert space"
   ]
  },
  {
   "cell_type": "markdown",
   "metadata": {},
   "source": [
    "Aitchison distance is essentially the Euclidean distance calculated on the CLR-transformed data"
   ]
  }
 ],
 "metadata": {
  "language_info": {
   "name": "python"
  }
 },
 "nbformat": 4,
 "nbformat_minor": 2
}
