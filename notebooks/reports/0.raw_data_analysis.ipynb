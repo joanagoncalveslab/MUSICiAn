{
 "cells": [
  {
   "cell_type": "code",
   "execution_count": 4,
   "metadata": {},
   "outputs": [
    {
     "name": "stdout",
     "output_type": "stream",
     "text": [
      "The autoreload extension is already loaded. To reload it, use:\n",
      "  %reload_ext autoreload\n"
     ]
    }
   ],
   "source": [
    "# OPTIONAL: Load the \"autoreload\" extension so that code can change\n",
    "%load_ext autoreload\n",
    "\n",
    "# OPTIONAL: always reload modules so that as you change code in src, it gets loaded\n",
    "%autoreload 2"
   ]
  },
  {
   "cell_type": "code",
   "execution_count": 5,
   "metadata": {},
   "outputs": [],
   "source": [
    "import sqlite3\n",
    "import pandas as pd\n",
    "import seaborn as sns\n",
    "import numpy as np\n",
    "import matplotlib.pyplot as plt\n",
    "\n",
    "from src.data.load_dataset import load_lumc_outcomes\n",
    "from src.config import get_common_barcodes"
   ]
  },
  {
   "cell_type": "code",
   "execution_count": 6,
   "metadata": {},
   "outputs": [
    {
     "name": "stdout",
     "output_type": "stream",
     "text": [
      "Normalised per Gene\n"
     ]
    },
    {
     "data": {
      "text/html": [
       "<div>\n",
       "<style scoped>\n",
       "    .dataframe tbody tr th:only-of-type {\n",
       "        vertical-align: middle;\n",
       "    }\n",
       "\n",
       "    .dataframe tbody tr th {\n",
       "        vertical-align: top;\n",
       "    }\n",
       "\n",
       "    .dataframe thead th {\n",
       "        text-align: right;\n",
       "    }\n",
       "</style>\n",
       "<table border=\"1\" class=\"dataframe\">\n",
       "  <thead>\n",
       "    <tr style=\"text-align: right;\">\n",
       "      <th></th>\n",
       "      <th></th>\n",
       "      <th></th>\n",
       "      <th></th>\n",
       "      <th>fraction_per_barcode</th>\n",
       "      <th>lumc_category</th>\n",
       "      <th>del_len</th>\n",
       "      <th>start</th>\n",
       "      <th>countEvents</th>\n",
       "    </tr>\n",
       "    <tr>\n",
       "      <th>Target</th>\n",
       "      <th>Alias</th>\n",
       "      <th>Gene</th>\n",
       "      <th>Barcode</th>\n",
       "      <th></th>\n",
       "      <th></th>\n",
       "      <th></th>\n",
       "      <th></th>\n",
       "      <th></th>\n",
       "    </tr>\n",
       "  </thead>\n",
       "  <tbody>\n",
       "    <tr>\n",
       "      <th rowspan=\"5\" valign=\"top\">T2</th>\n",
       "      <th rowspan=\"5\" valign=\"top\">MB03</th>\n",
       "      <th rowspan=\"5\" valign=\"top\">0610009B22Rik</th>\n",
       "      <th>0610009B22Rik-1</th>\n",
       "      <td>0.003415</td>\n",
       "      <td>1bp insertion - A</td>\n",
       "      <td>0</td>\n",
       "      <td>0</td>\n",
       "      <td>10</td>\n",
       "    </tr>\n",
       "    <tr>\n",
       "      <th>0610009B22Rik-1</th>\n",
       "      <td>0.047814</td>\n",
       "      <td>1bp insertion - C</td>\n",
       "      <td>0</td>\n",
       "      <td>0</td>\n",
       "      <td>140</td>\n",
       "    </tr>\n",
       "    <tr>\n",
       "      <th>0610009B22Rik-1</th>\n",
       "      <td>0.004440</td>\n",
       "      <td>1bp insertion - T</td>\n",
       "      <td>0</td>\n",
       "      <td>0</td>\n",
       "      <td>13</td>\n",
       "    </tr>\n",
       "    <tr>\n",
       "      <th>0610009B22Rik-1</th>\n",
       "      <td>0.001366</td>\n",
       "      <td>2bp insertion - CC</td>\n",
       "      <td>0</td>\n",
       "      <td>0</td>\n",
       "      <td>4</td>\n",
       "    </tr>\n",
       "    <tr>\n",
       "      <th>0610009B22Rik-1</th>\n",
       "      <td>0.002049</td>\n",
       "      <td>2bp insertion - TC</td>\n",
       "      <td>0</td>\n",
       "      <td>0</td>\n",
       "      <td>6</td>\n",
       "    </tr>\n",
       "  </tbody>\n",
       "</table>\n",
       "</div>"
      ],
      "text/plain": [
       "                                            fraction_per_barcode  \\\n",
       "Target Alias Gene          Barcode                                 \n",
       "T2     MB03  0610009B22Rik 0610009B22Rik-1              0.003415   \n",
       "                           0610009B22Rik-1              0.047814   \n",
       "                           0610009B22Rik-1              0.004440   \n",
       "                           0610009B22Rik-1              0.001366   \n",
       "                           0610009B22Rik-1              0.002049   \n",
       "\n",
       "                                                 lumc_category  del_len start  \\\n",
       "Target Alias Gene          Barcode                                              \n",
       "T2     MB03  0610009B22Rik 0610009B22Rik-1   1bp insertion - A        0     0   \n",
       "                           0610009B22Rik-1   1bp insertion - C        0     0   \n",
       "                           0610009B22Rik-1   1bp insertion - T        0     0   \n",
       "                           0610009B22Rik-1  2bp insertion - CC        0     0   \n",
       "                           0610009B22Rik-1  2bp insertion - TC        0     0   \n",
       "\n",
       "                                            countEvents  \n",
       "Target Alias Gene          Barcode                       \n",
       "T2     MB03  0610009B22Rik 0610009B22Rik-1           10  \n",
       "                           0610009B22Rik-1          140  \n",
       "                           0610009B22Rik-1           13  \n",
       "                           0610009B22Rik-1            4  \n",
       "                           0610009B22Rik-1            6  "
      ]
     },
     "execution_count": 6,
     "metadata": {},
     "output_type": "execute_result"
    }
   ],
   "source": [
    "# takes about 6 minutes to load the data into memory\n",
    "df = load_lumc_outcomes(sample_name=\"MB03\")\n",
    "df.head()"
   ]
  }
 ],
 "metadata": {
  "kernelspec": {
   "display_name": "MUSICian",
   "language": "python",
   "name": "python3"
  },
  "language_info": {
   "codemirror_mode": {
    "name": "ipython",
    "version": 3
   },
   "file_extension": ".py",
   "mimetype": "text/x-python",
   "name": "python",
   "nbconvert_exporter": "python",
   "pygments_lexer": "ipython3",
   "version": "3.9.13"
  }
 },
 "nbformat": 4,
 "nbformat_minor": 2
}
